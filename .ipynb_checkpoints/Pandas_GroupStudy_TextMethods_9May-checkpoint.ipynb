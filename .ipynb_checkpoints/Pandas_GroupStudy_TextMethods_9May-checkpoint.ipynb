{
 "cells": [
  {
   "cell_type": "code",
   "execution_count": 1,
   "id": "8eef8798",
   "metadata": {},
   "outputs": [],
   "source": [
    "import numpy as np\n",
    "import pandas as pd"
   ]
  },
  {
   "cell_type": "markdown",
   "id": "d9e73885",
   "metadata": {},
   "source": [
    "# Text Metods"
   ]
  },
  {
   "cell_type": "code",
   "execution_count": 2,
   "id": "72e22de7",
   "metadata": {},
   "outputs": [],
   "source": [
    "names = pd.Series([\"Ali\",\"Deli\",\"Veli\",\"Zeli\",\"56\"])"
   ]
  },
  {
   "cell_type": "code",
   "execution_count": 3,
   "id": "7a2100cd",
   "metadata": {},
   "outputs": [
    {
     "data": {
      "text/plain": [
       "0     Ali\n",
       "1    Deli\n",
       "2    Veli\n",
       "3    Zeli\n",
       "4      56\n",
       "dtype: object"
      ]
     },
     "execution_count": 3,
     "metadata": {},
     "output_type": "execute_result"
    }
   ],
   "source": [
    "names"
   ]
  },
  {
   "cell_type": "code",
   "execution_count": 4,
   "id": "9eb35ef4",
   "metadata": {},
   "outputs": [
    {
     "data": {
      "text/plain": [
       "0     ALI\n",
       "1    DELI\n",
       "2    VELI\n",
       "3    ZELI\n",
       "4      56\n",
       "dtype: object"
      ]
     },
     "execution_count": 4,
     "metadata": {},
     "output_type": "execute_result"
    }
   ],
   "source": [
    "names.str.upper()"
   ]
  },
  {
   "cell_type": "code",
   "execution_count": 5,
   "id": "4b04c706",
   "metadata": {},
   "outputs": [],
   "source": [
    "names = pd.Series([\"Ali\",\"Deli\",\"Veli\",\"Zeli\",\"56\", 4.2])"
   ]
  },
  {
   "cell_type": "code",
   "execution_count": 6,
   "id": "fb4e02a1",
   "metadata": {},
   "outputs": [
    {
     "data": {
      "text/plain": [
       "0     Ali\n",
       "1    Deli\n",
       "2    Veli\n",
       "3    Zeli\n",
       "4      56\n",
       "5     4.2\n",
       "dtype: object"
      ]
     },
     "execution_count": 6,
     "metadata": {},
     "output_type": "execute_result"
    }
   ],
   "source": [
    "names"
   ]
  },
  {
   "cell_type": "code",
   "execution_count": 7,
   "id": "c77ef579",
   "metadata": {},
   "outputs": [
    {
     "data": {
      "text/plain": [
       "0    False\n",
       "1    False\n",
       "2    False\n",
       "3    False\n",
       "4    False\n",
       "5      NaN\n",
       "dtype: object"
      ]
     },
     "execution_count": 7,
     "metadata": {},
     "output_type": "execute_result"
    }
   ],
   "source": [
    "names.str.islower()"
   ]
  },
  {
   "cell_type": "code",
   "execution_count": null,
   "id": "54707f8f",
   "metadata": {},
   "outputs": [],
   "source": [
    "names = pd.Series([\"ali\",\"Deli\",\"Veli\",\"Zeli\",\"56\", 4.2])"
   ]
  },
  {
   "cell_type": "code",
   "execution_count": 8,
   "id": "36f22093",
   "metadata": {},
   "outputs": [
    {
     "data": {
      "text/plain": [
       "0    False\n",
       "1    False\n",
       "2    False\n",
       "3    False\n",
       "4    False\n",
       "5      NaN\n",
       "dtype: object"
      ]
     },
     "execution_count": 8,
     "metadata": {},
     "output_type": "execute_result"
    }
   ],
   "source": [
    "names.str.islower()"
   ]
  },
  {
   "cell_type": "code",
   "execution_count": 9,
   "id": "613ad6f7",
   "metadata": {},
   "outputs": [],
   "source": [
    "names = pd.Series([\"ali\",\"Deli\",\"Veli\",\"Zeli\",\"56\"])"
   ]
  },
  {
   "cell_type": "code",
   "execution_count": 10,
   "id": "6161ea76",
   "metadata": {},
   "outputs": [
    {
     "data": {
      "text/plain": [
       "0     True\n",
       "1    False\n",
       "2    False\n",
       "3    False\n",
       "4    False\n",
       "dtype: bool"
      ]
     },
     "execution_count": 10,
     "metadata": {},
     "output_type": "execute_result"
    }
   ],
   "source": [
    "names.str.islower()"
   ]
  },
  {
   "cell_type": "code",
   "execution_count": 11,
   "id": "5494ec98",
   "metadata": {},
   "outputs": [
    {
     "data": {
      "text/plain": [
       "0    ali\n",
       "dtype: object"
      ]
     },
     "execution_count": 11,
     "metadata": {},
     "output_type": "execute_result"
    }
   ],
   "source": [
    "names[names.str.islower()]"
   ]
  },
  {
   "cell_type": "code",
   "execution_count": 12,
   "id": "28bca4c4",
   "metadata": {},
   "outputs": [
    {
     "data": {
      "text/plain": [
       "0     ali\n",
       "1    Deli\n",
       "2    Veli\n",
       "3    Zeli\n",
       "dtype: object"
      ]
     },
     "execution_count": 12,
     "metadata": {},
     "output_type": "execute_result"
    }
   ],
   "source": [
    "names[~names.str.isnumeric()]"
   ]
  },
  {
   "cell_type": "code",
   "execution_count": 13,
   "id": "73254d57",
   "metadata": {},
   "outputs": [],
   "source": [
    "comps = [\"QNB,BBVA,GP\",\"Ford,Audi,BMW\"]"
   ]
  },
  {
   "cell_type": "code",
   "execution_count": 14,
   "id": "f4794b40",
   "metadata": {},
   "outputs": [],
   "source": [
    "comp= pd.Series(comps)"
   ]
  },
  {
   "cell_type": "code",
   "execution_count": 15,
   "id": "9bedec84",
   "metadata": {},
   "outputs": [
    {
     "data": {
      "text/plain": [
       "['QNB', 'BBVA', 'GP']"
      ]
     },
     "execution_count": 15,
     "metadata": {},
     "output_type": "execute_result"
    }
   ],
   "source": [
    "comps[0].split(\",\")"
   ]
  },
  {
   "cell_type": "code",
   "execution_count": 16,
   "id": "58cd542c",
   "metadata": {},
   "outputs": [
    {
     "data": {
      "text/plain": [
       "0      [QNB, BBVA, GP]\n",
       "1    [Ford, Audi, BMW]\n",
       "dtype: object"
      ]
     },
     "execution_count": 16,
     "metadata": {},
     "output_type": "execute_result"
    }
   ],
   "source": [
    "comp.str.split(\",\")"
   ]
  },
  {
   "cell_type": "code",
   "execution_count": 17,
   "id": "3d694cec",
   "metadata": {},
   "outputs": [
    {
     "data": {
      "text/plain": [
       "0     QNB\n",
       "1    Ford\n",
       "dtype: object"
      ]
     },
     "execution_count": 17,
     "metadata": {},
     "output_type": "execute_result"
    }
   ],
   "source": [
    "comp.str.split(\",\").str[0]"
   ]
  },
  {
   "cell_type": "code",
   "execution_count": 19,
   "id": "e7c3b65c",
   "metadata": {},
   "outputs": [
    {
     "data": {
      "text/html": [
       "<div>\n",
       "<style scoped>\n",
       "    .dataframe tbody tr th:only-of-type {\n",
       "        vertical-align: middle;\n",
       "    }\n",
       "\n",
       "    .dataframe tbody tr th {\n",
       "        vertical-align: top;\n",
       "    }\n",
       "\n",
       "    .dataframe thead th {\n",
       "        text-align: right;\n",
       "    }\n",
       "</style>\n",
       "<table border=\"1\" class=\"dataframe\">\n",
       "  <thead>\n",
       "    <tr style=\"text-align: right;\">\n",
       "      <th></th>\n",
       "      <th>0</th>\n",
       "      <th>1</th>\n",
       "      <th>2</th>\n",
       "    </tr>\n",
       "  </thead>\n",
       "  <tbody>\n",
       "    <tr>\n",
       "      <th>0</th>\n",
       "      <td>QNB</td>\n",
       "      <td>BBVA</td>\n",
       "      <td>GP</td>\n",
       "    </tr>\n",
       "    <tr>\n",
       "      <th>1</th>\n",
       "      <td>Ford</td>\n",
       "      <td>Audi</td>\n",
       "      <td>BMW</td>\n",
       "    </tr>\n",
       "  </tbody>\n",
       "</table>\n",
       "</div>"
      ],
      "text/plain": [
       "      0     1    2\n",
       "0   QNB  BBVA   GP\n",
       "1  Ford  Audi  BMW"
      ]
     },
     "execution_count": 19,
     "metadata": {},
     "output_type": "execute_result"
    }
   ],
   "source": [
    "comp.str.split(\",\", expand=True)"
   ]
  },
  {
   "cell_type": "code",
   "execution_count": 20,
   "id": "a8fa7fbb",
   "metadata": {},
   "outputs": [],
   "source": [
    "isimler = pd.Series([\"ali\",\"Del??i\",\"Vel??i\",\"Zel??i\",\"56\", 4.2])"
   ]
  },
  {
   "cell_type": "code",
   "execution_count": 21,
   "id": "3aaaba07",
   "metadata": {},
   "outputs": [
    {
     "data": {
      "text/plain": [
       "0     ali\n",
       "1    Deli\n",
       "2    Veli\n",
       "3    Zeli\n",
       "4      56\n",
       "5     4.2\n",
       "dtype: object"
      ]
     },
     "execution_count": 21,
     "metadata": {},
     "output_type": "execute_result"
    }
   ],
   "source": [
    "isimler"
   ]
  },
  {
   "cell_type": "code",
   "execution_count": 22,
   "id": "a5d8b044",
   "metadata": {},
   "outputs": [],
   "source": [
    "def func(x):\n",
    "    return x.replace(\"??\", \"\")"
   ]
  },
  {
   "cell_type": "raw",
   "id": "535c7d70",
   "metadata": {},
   "source": []
  },
  {
   "cell_type": "code",
   "execution_count": null,
   "id": "64518e31",
   "metadata": {},
   "outputs": [],
   "source": []
  },
  {
   "cell_type": "code",
   "execution_count": null,
   "id": "c6d901ea",
   "metadata": {},
   "outputs": [],
   "source": []
  },
  {
   "cell_type": "code",
   "execution_count": null,
   "id": "4694ba12",
   "metadata": {},
   "outputs": [],
   "source": []
  }
 ],
 "metadata": {
  "kernelspec": {
   "display_name": "Python 3 (ipykernel)",
   "language": "python",
   "name": "python3"
  },
  "language_info": {
   "codemirror_mode": {
    "name": "ipython",
    "version": 3
   },
   "file_extension": ".py",
   "mimetype": "text/x-python",
   "name": "python",
   "nbconvert_exporter": "python",
   "pygments_lexer": "ipython3",
   "version": "3.9.7"
  }
 },
 "nbformat": 4,
 "nbformat_minor": 5
}

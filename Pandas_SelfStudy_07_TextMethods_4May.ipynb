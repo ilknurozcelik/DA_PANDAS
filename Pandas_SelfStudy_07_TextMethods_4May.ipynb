{
 "cells": [
  {
   "cell_type": "markdown",
   "id": "265c40a4",
   "metadata": {},
   "source": [
    "# Text Methods"
   ]
  },
  {
   "cell_type": "code",
   "execution_count": 1,
   "id": "394253d2",
   "metadata": {},
   "outputs": [],
   "source": [
    "import numpy as np\n",
    "import pandas as pd"
   ]
  },
  {
   "cell_type": "markdown",
   "id": "4f249494",
   "metadata": {},
   "source": [
    "## A normal Python string has a variety of method calls available:"
   ]
  },
  {
   "cell_type": "code",
   "execution_count": 3,
   "id": "adffe939",
   "metadata": {},
   "outputs": [],
   "source": [
    "email = \"jose@email.com\""
   ]
  },
  {
   "cell_type": "code",
   "execution_count": 4,
   "id": "fa758c42",
   "metadata": {},
   "outputs": [
    {
     "data": {
      "text/plain": [
       "['jose', 'email.com']"
      ]
     },
     "execution_count": 4,
     "metadata": {},
     "output_type": "execute_result"
    }
   ],
   "source": [
    "email.split(\"@\")"
   ]
  },
  {
   "cell_type": "code",
   "execution_count": 5,
   "id": "2ac1e1bc",
   "metadata": {},
   "outputs": [],
   "source": [
    "names= pd.Series([\"andrew\",\"bobo\",\"claire\",\"david\",\"5\"])"
   ]
  },
  {
   "cell_type": "code",
   "execution_count": 6,
   "id": "5aa406c0",
   "metadata": {},
   "outputs": [
    {
     "data": {
      "text/plain": [
       "0    andrew\n",
       "1      bobo\n",
       "2    claire\n",
       "3     david\n",
       "4         5\n",
       "dtype: object"
      ]
     },
     "execution_count": 6,
     "metadata": {},
     "output_type": "execute_result"
    }
   ],
   "source": [
    "names"
   ]
  },
  {
   "cell_type": "code",
   "execution_count": 7,
   "id": "e6613397",
   "metadata": {},
   "outputs": [
    {
     "data": {
      "text/plain": [
       "0    ANDREW\n",
       "1      BOBO\n",
       "2    CLAIRE\n",
       "3     DAVID\n",
       "4         5\n",
       "dtype: object"
      ]
     },
     "execution_count": 7,
     "metadata": {},
     "output_type": "execute_result"
    }
   ],
   "source": [
    "names.str.upper()"
   ]
  },
  {
   "cell_type": "code",
   "execution_count": 8,
   "id": "f599e881",
   "metadata": {},
   "outputs": [
    {
     "data": {
      "text/plain": [
       "0    andrew\n",
       "1      bobo\n",
       "2    claire\n",
       "3     david\n",
       "4         5\n",
       "dtype: object"
      ]
     },
     "execution_count": 8,
     "metadata": {},
     "output_type": "execute_result"
    }
   ],
   "source": [
    "names"
   ]
  },
  {
   "cell_type": "code",
   "execution_count": 9,
   "id": "2cf1389e",
   "metadata": {},
   "outputs": [
    {
     "data": {
      "text/plain": [
       "False"
      ]
     },
     "execution_count": 9,
     "metadata": {},
     "output_type": "execute_result"
    }
   ],
   "source": [
    "email.isdigit()"
   ]
  },
  {
   "cell_type": "code",
   "execution_count": 10,
   "id": "079358f9",
   "metadata": {},
   "outputs": [
    {
     "data": {
      "text/plain": [
       "True"
      ]
     },
     "execution_count": 10,
     "metadata": {},
     "output_type": "execute_result"
    }
   ],
   "source": [
    "\"5\".isdigit() "
   ]
  },
  {
   "cell_type": "code",
   "execution_count": 11,
   "id": "2d256ee7",
   "metadata": {},
   "outputs": [
    {
     "data": {
      "text/plain": [
       "0    False\n",
       "1    False\n",
       "2    False\n",
       "3    False\n",
       "4     True\n",
       "dtype: bool"
      ]
     },
     "execution_count": 11,
     "metadata": {},
     "output_type": "execute_result"
    }
   ],
   "source": [
    "# Normal python stringleri için kullanılan built-in string metodlarının çoğu pandasta str call özelliği ile kullanılabilir.\n",
    "# Bu şekilde bir serideki tüm stringler için bu metodlar çalışır ve amacına uygun bir sonuç döndürür.\n",
    "# Ör:\n",
    "\n",
    "names.str.isdigit()  # pandas serisi için str ile ilgili metodları çağırarak kullanımda aşağıdaki gibi boolean bir çıktı\n",
    "\n",
    "# elde edilir. Bu çıktı kullanılarak örneğin sadece digit içeren veye içermeyen verileri filtreleyebilirsiniz.\n"
   ]
  },
  {
   "cell_type": "code",
   "execution_count": 12,
   "id": "f68763f4",
   "metadata": {},
   "outputs": [
    {
     "name": "stdout",
     "output_type": "stream",
     "text": [
      "Help on class str in module builtins:\n",
      "\n",
      "class str(object)\n",
      " |  str(object='') -> str\n",
      " |  str(bytes_or_buffer[, encoding[, errors]]) -> str\n",
      " |  \n",
      " |  Create a new string object from the given object. If encoding or\n",
      " |  errors is specified, then the object must expose a data buffer\n",
      " |  that will be decoded using the given encoding and error handler.\n",
      " |  Otherwise, returns the result of object.__str__() (if defined)\n",
      " |  or repr(object).\n",
      " |  encoding defaults to sys.getdefaultencoding().\n",
      " |  errors defaults to 'strict'.\n",
      " |  \n",
      " |  Methods defined here:\n",
      " |  \n",
      " |  __add__(self, value, /)\n",
      " |      Return self+value.\n",
      " |  \n",
      " |  __contains__(self, key, /)\n",
      " |      Return key in self.\n",
      " |  \n",
      " |  __eq__(self, value, /)\n",
      " |      Return self==value.\n",
      " |  \n",
      " |  __format__(self, format_spec, /)\n",
      " |      Return a formatted version of the string as described by format_spec.\n",
      " |  \n",
      " |  __ge__(self, value, /)\n",
      " |      Return self>=value.\n",
      " |  \n",
      " |  __getattribute__(self, name, /)\n",
      " |      Return getattr(self, name).\n",
      " |  \n",
      " |  __getitem__(self, key, /)\n",
      " |      Return self[key].\n",
      " |  \n",
      " |  __getnewargs__(...)\n",
      " |  \n",
      " |  __gt__(self, value, /)\n",
      " |      Return self>value.\n",
      " |  \n",
      " |  __hash__(self, /)\n",
      " |      Return hash(self).\n",
      " |  \n",
      " |  __iter__(self, /)\n",
      " |      Implement iter(self).\n",
      " |  \n",
      " |  __le__(self, value, /)\n",
      " |      Return self<=value.\n",
      " |  \n",
      " |  __len__(self, /)\n",
      " |      Return len(self).\n",
      " |  \n",
      " |  __lt__(self, value, /)\n",
      " |      Return self<value.\n",
      " |  \n",
      " |  __mod__(self, value, /)\n",
      " |      Return self%value.\n",
      " |  \n",
      " |  __mul__(self, value, /)\n",
      " |      Return self*value.\n",
      " |  \n",
      " |  __ne__(self, value, /)\n",
      " |      Return self!=value.\n",
      " |  \n",
      " |  __repr__(self, /)\n",
      " |      Return repr(self).\n",
      " |  \n",
      " |  __rmod__(self, value, /)\n",
      " |      Return value%self.\n",
      " |  \n",
      " |  __rmul__(self, value, /)\n",
      " |      Return value*self.\n",
      " |  \n",
      " |  __sizeof__(self, /)\n",
      " |      Return the size of the string in memory, in bytes.\n",
      " |  \n",
      " |  __str__(self, /)\n",
      " |      Return str(self).\n",
      " |  \n",
      " |  capitalize(self, /)\n",
      " |      Return a capitalized version of the string.\n",
      " |      \n",
      " |      More specifically, make the first character have upper case and the rest lower\n",
      " |      case.\n",
      " |  \n",
      " |  casefold(self, /)\n",
      " |      Return a version of the string suitable for caseless comparisons.\n",
      " |  \n",
      " |  center(self, width, fillchar=' ', /)\n",
      " |      Return a centered string of length width.\n",
      " |      \n",
      " |      Padding is done using the specified fill character (default is a space).\n",
      " |  \n",
      " |  count(...)\n",
      " |      S.count(sub[, start[, end]]) -> int\n",
      " |      \n",
      " |      Return the number of non-overlapping occurrences of substring sub in\n",
      " |      string S[start:end].  Optional arguments start and end are\n",
      " |      interpreted as in slice notation.\n",
      " |  \n",
      " |  encode(self, /, encoding='utf-8', errors='strict')\n",
      " |      Encode the string using the codec registered for encoding.\n",
      " |      \n",
      " |      encoding\n",
      " |        The encoding in which to encode the string.\n",
      " |      errors\n",
      " |        The error handling scheme to use for encoding errors.\n",
      " |        The default is 'strict' meaning that encoding errors raise a\n",
      " |        UnicodeEncodeError.  Other possible values are 'ignore', 'replace' and\n",
      " |        'xmlcharrefreplace' as well as any other name registered with\n",
      " |        codecs.register_error that can handle UnicodeEncodeErrors.\n",
      " |  \n",
      " |  endswith(...)\n",
      " |      S.endswith(suffix[, start[, end]]) -> bool\n",
      " |      \n",
      " |      Return True if S ends with the specified suffix, False otherwise.\n",
      " |      With optional start, test S beginning at that position.\n",
      " |      With optional end, stop comparing S at that position.\n",
      " |      suffix can also be a tuple of strings to try.\n",
      " |  \n",
      " |  expandtabs(self, /, tabsize=8)\n",
      " |      Return a copy where all tab characters are expanded using spaces.\n",
      " |      \n",
      " |      If tabsize is not given, a tab size of 8 characters is assumed.\n",
      " |  \n",
      " |  find(...)\n",
      " |      S.find(sub[, start[, end]]) -> int\n",
      " |      \n",
      " |      Return the lowest index in S where substring sub is found,\n",
      " |      such that sub is contained within S[start:end].  Optional\n",
      " |      arguments start and end are interpreted as in slice notation.\n",
      " |      \n",
      " |      Return -1 on failure.\n",
      " |  \n",
      " |  format(...)\n",
      " |      S.format(*args, **kwargs) -> str\n",
      " |      \n",
      " |      Return a formatted version of S, using substitutions from args and kwargs.\n",
      " |      The substitutions are identified by braces ('{' and '}').\n",
      " |  \n",
      " |  format_map(...)\n",
      " |      S.format_map(mapping) -> str\n",
      " |      \n",
      " |      Return a formatted version of S, using substitutions from mapping.\n",
      " |      The substitutions are identified by braces ('{' and '}').\n",
      " |  \n",
      " |  index(...)\n",
      " |      S.index(sub[, start[, end]]) -> int\n",
      " |      \n",
      " |      Return the lowest index in S where substring sub is found,\n",
      " |      such that sub is contained within S[start:end].  Optional\n",
      " |      arguments start and end are interpreted as in slice notation.\n",
      " |      \n",
      " |      Raises ValueError when the substring is not found.\n",
      " |  \n",
      " |  isalnum(self, /)\n",
      " |      Return True if the string is an alpha-numeric string, False otherwise.\n",
      " |      \n",
      " |      A string is alpha-numeric if all characters in the string are alpha-numeric and\n",
      " |      there is at least one character in the string.\n",
      " |  \n",
      " |  isalpha(self, /)\n",
      " |      Return True if the string is an alphabetic string, False otherwise.\n",
      " |      \n",
      " |      A string is alphabetic if all characters in the string are alphabetic and there\n",
      " |      is at least one character in the string.\n",
      " |  \n",
      " |  isascii(self, /)\n",
      " |      Return True if all characters in the string are ASCII, False otherwise.\n",
      " |      \n",
      " |      ASCII characters have code points in the range U+0000-U+007F.\n",
      " |      Empty string is ASCII too.\n",
      " |  \n",
      " |  isdecimal(self, /)\n",
      " |      Return True if the string is a decimal string, False otherwise.\n",
      " |      \n",
      " |      A string is a decimal string if all characters in the string are decimal and\n",
      " |      there is at least one character in the string.\n",
      " |  \n",
      " |  isdigit(self, /)\n",
      " |      Return True if the string is a digit string, False otherwise.\n",
      " |      \n",
      " |      A string is a digit string if all characters in the string are digits and there\n",
      " |      is at least one character in the string.\n",
      " |  \n",
      " |  isidentifier(self, /)\n",
      " |      Return True if the string is a valid Python identifier, False otherwise.\n",
      " |      \n",
      " |      Call keyword.iskeyword(s) to test whether string s is a reserved identifier,\n",
      " |      such as \"def\" or \"class\".\n",
      " |  \n",
      " |  islower(self, /)\n",
      " |      Return True if the string is a lowercase string, False otherwise.\n",
      " |      \n",
      " |      A string is lowercase if all cased characters in the string are lowercase and\n",
      " |      there is at least one cased character in the string.\n",
      " |  \n",
      " |  isnumeric(self, /)\n",
      " |      Return True if the string is a numeric string, False otherwise.\n",
      " |      \n",
      " |      A string is numeric if all characters in the string are numeric and there is at\n",
      " |      least one character in the string.\n",
      " |  \n",
      " |  isprintable(self, /)\n",
      " |      Return True if the string is printable, False otherwise.\n",
      " |      \n",
      " |      A string is printable if all of its characters are considered printable in\n",
      " |      repr() or if it is empty.\n",
      " |  \n",
      " |  isspace(self, /)\n",
      " |      Return True if the string is a whitespace string, False otherwise.\n",
      " |      \n",
      " |      A string is whitespace if all characters in the string are whitespace and there\n",
      " |      is at least one character in the string.\n",
      " |  \n",
      " |  istitle(self, /)\n",
      " |      Return True if the string is a title-cased string, False otherwise.\n",
      " |      \n",
      " |      In a title-cased string, upper- and title-case characters may only\n",
      " |      follow uncased characters and lowercase characters only cased ones.\n",
      " |  \n",
      " |  isupper(self, /)\n",
      " |      Return True if the string is an uppercase string, False otherwise.\n",
      " |      \n",
      " |      A string is uppercase if all cased characters in the string are uppercase and\n",
      " |      there is at least one cased character in the string.\n",
      " |  \n",
      " |  join(self, iterable, /)\n",
      " |      Concatenate any number of strings.\n",
      " |      \n",
      " |      The string whose method is called is inserted in between each given string.\n",
      " |      The result is returned as a new string.\n",
      " |      \n",
      " |      Example: '.'.join(['ab', 'pq', 'rs']) -> 'ab.pq.rs'\n",
      " |  \n",
      " |  ljust(self, width, fillchar=' ', /)\n",
      " |      Return a left-justified string of length width.\n",
      " |      \n",
      " |      Padding is done using the specified fill character (default is a space).\n",
      " |  \n",
      " |  lower(self, /)\n",
      " |      Return a copy of the string converted to lowercase.\n",
      " |  \n",
      " |  lstrip(self, chars=None, /)\n",
      " |      Return a copy of the string with leading whitespace removed.\n",
      " |      \n",
      " |      If chars is given and not None, remove characters in chars instead.\n",
      " |  \n",
      " |  partition(self, sep, /)\n",
      " |      Partition the string into three parts using the given separator.\n",
      " |      \n",
      " |      This will search for the separator in the string.  If the separator is found,\n",
      " |      returns a 3-tuple containing the part before the separator, the separator\n",
      " |      itself, and the part after it.\n",
      " |      \n",
      " |      If the separator is not found, returns a 3-tuple containing the original string\n",
      " |      and two empty strings.\n",
      " |  \n",
      " |  removeprefix(self, prefix, /)\n",
      " |      Return a str with the given prefix string removed if present.\n",
      " |      \n",
      " |      If the string starts with the prefix string, return string[len(prefix):].\n",
      " |      Otherwise, return a copy of the original string.\n",
      " |  \n",
      " |  removesuffix(self, suffix, /)\n",
      " |      Return a str with the given suffix string removed if present.\n",
      " |      \n",
      " |      If the string ends with the suffix string and that suffix is not empty,\n",
      " |      return string[:-len(suffix)]. Otherwise, return a copy of the original\n",
      " |      string.\n",
      " |  \n",
      " |  replace(self, old, new, count=-1, /)\n",
      " |      Return a copy with all occurrences of substring old replaced by new.\n",
      " |      \n",
      " |        count\n",
      " |          Maximum number of occurrences to replace.\n",
      " |          -1 (the default value) means replace all occurrences.\n",
      " |      \n",
      " |      If the optional argument count is given, only the first count occurrences are\n",
      " |      replaced.\n",
      " |  \n",
      " |  rfind(...)\n",
      " |      S.rfind(sub[, start[, end]]) -> int\n",
      " |      \n",
      " |      Return the highest index in S where substring sub is found,\n",
      " |      such that sub is contained within S[start:end].  Optional\n",
      " |      arguments start and end are interpreted as in slice notation.\n",
      " |      \n",
      " |      Return -1 on failure.\n",
      " |  \n",
      " |  rindex(...)\n",
      " |      S.rindex(sub[, start[, end]]) -> int\n",
      " |      \n",
      " |      Return the highest index in S where substring sub is found,\n",
      " |      such that sub is contained within S[start:end].  Optional\n",
      " |      arguments start and end are interpreted as in slice notation.\n",
      " |      \n",
      " |      Raises ValueError when the substring is not found.\n",
      " |  \n",
      " |  rjust(self, width, fillchar=' ', /)\n",
      " |      Return a right-justified string of length width.\n",
      " |      \n",
      " |      Padding is done using the specified fill character (default is a space).\n",
      " |  \n",
      " |  rpartition(self, sep, /)\n",
      " |      Partition the string into three parts using the given separator.\n",
      " |      \n",
      " |      This will search for the separator in the string, starting at the end. If\n",
      " |      the separator is found, returns a 3-tuple containing the part before the\n",
      " |      separator, the separator itself, and the part after it.\n",
      " |      \n",
      " |      If the separator is not found, returns a 3-tuple containing two empty strings\n",
      " |      and the original string.\n",
      " |  \n",
      " |  rsplit(self, /, sep=None, maxsplit=-1)\n",
      " |      Return a list of the words in the string, using sep as the delimiter string.\n",
      " |      \n",
      " |        sep\n",
      " |          The delimiter according which to split the string.\n",
      " |          None (the default value) means split according to any whitespace,\n",
      " |          and discard empty strings from the result.\n",
      " |        maxsplit\n",
      " |          Maximum number of splits to do.\n",
      " |          -1 (the default value) means no limit.\n",
      " |      \n",
      " |      Splits are done starting at the end of the string and working to the front.\n",
      " |  \n",
      " |  rstrip(self, chars=None, /)\n",
      " |      Return a copy of the string with trailing whitespace removed.\n",
      " |      \n",
      " |      If chars is given and not None, remove characters in chars instead.\n",
      " |  \n",
      " |  split(self, /, sep=None, maxsplit=-1)\n",
      " |      Return a list of the words in the string, using sep as the delimiter string.\n",
      " |      \n",
      " |      sep\n",
      " |        The delimiter according which to split the string.\n",
      " |        None (the default value) means split according to any whitespace,\n",
      " |        and discard empty strings from the result.\n",
      " |      maxsplit\n",
      " |        Maximum number of splits to do.\n",
      " |        -1 (the default value) means no limit.\n",
      " |  \n",
      " |  splitlines(self, /, keepends=False)\n",
      " |      Return a list of the lines in the string, breaking at line boundaries.\n",
      " |      \n",
      " |      Line breaks are not included in the resulting list unless keepends is given and\n",
      " |      true.\n",
      " |  \n",
      " |  startswith(...)\n",
      " |      S.startswith(prefix[, start[, end]]) -> bool\n",
      " |      \n",
      " |      Return True if S starts with the specified prefix, False otherwise.\n",
      " |      With optional start, test S beginning at that position.\n",
      " |      With optional end, stop comparing S at that position.\n",
      " |      prefix can also be a tuple of strings to try.\n",
      " |  \n",
      " |  strip(self, chars=None, /)\n",
      " |      Return a copy of the string with leading and trailing whitespace removed.\n",
      " |      \n",
      " |      If chars is given and not None, remove characters in chars instead.\n",
      " |  \n",
      " |  swapcase(self, /)\n",
      " |      Convert uppercase characters to lowercase and lowercase characters to uppercase.\n",
      " |  \n",
      " |  title(self, /)\n",
      " |      Return a version of the string where each word is titlecased.\n",
      " |      \n",
      " |      More specifically, words start with uppercased characters and all remaining\n",
      " |      cased characters have lower case.\n",
      " |  \n",
      " |  translate(self, table, /)\n",
      " |      Replace each character in the string using the given translation table.\n",
      " |      \n",
      " |        table\n",
      " |          Translation table, which must be a mapping of Unicode ordinals to\n",
      " |          Unicode ordinals, strings, or None.\n",
      " |      \n",
      " |      The table must implement lookup/indexing via __getitem__, for instance a\n",
      " |      dictionary or list.  If this operation raises LookupError, the character is\n",
      " |      left untouched.  Characters mapped to None are deleted.\n",
      " |  \n",
      " |  upper(self, /)\n",
      " |      Return a copy of the string converted to uppercase.\n",
      " |  \n",
      " |  zfill(self, width, /)\n",
      " |      Pad a numeric string with zeros on the left, to fill a field of the given width.\n",
      " |      \n",
      " |      The string is never truncated.\n",
      " |  \n",
      " |  ----------------------------------------------------------------------\n",
      " |  Static methods defined here:\n",
      " |  \n",
      " |  __new__(*args, **kwargs) from builtins.type\n",
      " |      Create and return a new object.  See help(type) for accurate signature.\n",
      " |  \n",
      " |  maketrans(...)\n",
      " |      Return a translation table usable for str.translate().\n",
      " |      \n",
      " |      If there is only one argument, it must be a dictionary mapping Unicode\n",
      " |      ordinals (integers) or characters to Unicode ordinals, strings or None.\n",
      " |      Character keys will be then converted to ordinals.\n",
      " |      If there are two arguments, they must be strings of equal length, and\n",
      " |      in the resulting dictionary, each character in x will be mapped to the\n",
      " |      character at the same position in y. If there is a third argument, it\n",
      " |      must be a string, whose characters will be mapped to None in the result.\n",
      "\n"
     ]
    }
   ],
   "source": [
    "help(str)"
   ]
  },
  {
   "cell_type": "markdown",
   "id": "30b235d8",
   "metadata": {},
   "source": [
    "# Pandas and Text\n",
    "\n",
    "Pandas can do a lot more than what we show here. Full online documentation on things like advanced string indexing and regular expressions with pandas can be found here: https://pandas.pydata.org/docs/user_guide/text.html\n",
    "\n",
    "## Text Methods on Pandas String Column"
   ]
  },
  {
   "cell_type": "code",
   "execution_count": 13,
   "id": "238fdda9",
   "metadata": {},
   "outputs": [
    {
     "data": {
      "text/plain": [
       "0    andrew\n",
       "1      bobo\n",
       "2    claire\n",
       "3         4\n",
       "dtype: object"
      ]
     },
     "execution_count": 13,
     "metadata": {},
     "output_type": "execute_result"
    }
   ],
   "source": [
    "names = pd.Series([\"andrew\",\"bobo\",\"claire\",\"4\"])\n",
    "names"
   ]
  },
  {
   "cell_type": "code",
   "execution_count": 14,
   "id": "509f3315",
   "metadata": {},
   "outputs": [
    {
     "data": {
      "text/plain": [
       "0    Andrew\n",
       "1      Bobo\n",
       "2    Claire\n",
       "3         4\n",
       "dtype: object"
      ]
     },
     "execution_count": 14,
     "metadata": {},
     "output_type": "execute_result"
    }
   ],
   "source": [
    "names.str.capitalize()"
   ]
  },
  {
   "cell_type": "code",
   "execution_count": 15,
   "id": "f169de1e",
   "metadata": {},
   "outputs": [
    {
     "data": {
      "text/plain": [
       "0    False\n",
       "1    False\n",
       "2    False\n",
       "3     True\n",
       "dtype: bool"
      ]
     },
     "execution_count": 15,
     "metadata": {},
     "output_type": "execute_result"
    }
   ],
   "source": [
    "names.str.isdigit()"
   ]
  },
  {
   "cell_type": "markdown",
   "id": "428d89f3",
   "metadata": {},
   "source": [
    "## Splitting , Grabbing, and Expanding"
   ]
  },
  {
   "cell_type": "code",
   "execution_count": 16,
   "id": "f39839b1",
   "metadata": {},
   "outputs": [],
   "source": [
    "tech_finance = [\"GOOG, APPL, AMZN\",\"JPM, BAC, GS\"]"
   ]
  },
  {
   "cell_type": "code",
   "execution_count": 17,
   "id": "3ef1810a",
   "metadata": {},
   "outputs": [
    {
     "data": {
      "text/plain": [
       "2"
      ]
     },
     "execution_count": 17,
     "metadata": {},
     "output_type": "execute_result"
    }
   ],
   "source": [
    "len(tech_finance)"
   ]
  },
  {
   "cell_type": "code",
   "execution_count": 19,
   "id": "b1bba8bd",
   "metadata": {},
   "outputs": [
    {
     "data": {
      "text/plain": [
       "0    GOOG, APPL, AMZN\n",
       "1        JPM, BAC, GS\n",
       "dtype: object"
      ]
     },
     "execution_count": 19,
     "metadata": {},
     "output_type": "execute_result"
    }
   ],
   "source": [
    "tickers = pd.Series(tech_finance)\n",
    "tickers"
   ]
  },
  {
   "cell_type": "code",
   "execution_count": 20,
   "id": "b487fd9e",
   "metadata": {},
   "outputs": [
    {
     "data": {
      "text/plain": [
       "0    [GOOG,  APPL,  AMZN]\n",
       "1        [JPM,  BAC,  GS]\n",
       "dtype: object"
      ]
     },
     "execution_count": 20,
     "metadata": {},
     "output_type": "execute_result"
    }
   ],
   "source": [
    "tickers.str.split(\",\")  # serinin her satırındaki elemanı aralarındaki virgüle göre ayırmak için str.split yöntemi kullanılır.\n",
    "\n",
    "# Sonunda serinin her satırında listeye benzer, her elemanına ulaşılabililir elemanlar oluşur."
   ]
  },
  {
   "cell_type": "code",
   "execution_count": 22,
   "id": "27b8ad4b",
   "metadata": {},
   "outputs": [
    {
     "data": {
      "text/plain": [
       "0    GOOG\n",
       "1     JPM\n",
       "dtype: object"
      ]
     },
     "execution_count": 22,
     "metadata": {},
     "output_type": "execute_result"
    }
   ],
   "source": [
    "tickers.str.split(\",\").str[0]  # ayrılmış elemanların 0. indekslerindeki elemanlarını görmek için"
   ]
  },
  {
   "cell_type": "code",
   "execution_count": 23,
   "id": "eb982e8a",
   "metadata": {},
   "outputs": [
    {
     "data": {
      "text/html": [
       "<div>\n",
       "<style scoped>\n",
       "    .dataframe tbody tr th:only-of-type {\n",
       "        vertical-align: middle;\n",
       "    }\n",
       "\n",
       "    .dataframe tbody tr th {\n",
       "        vertical-align: top;\n",
       "    }\n",
       "\n",
       "    .dataframe thead th {\n",
       "        text-align: right;\n",
       "    }\n",
       "</style>\n",
       "<table border=\"1\" class=\"dataframe\">\n",
       "  <thead>\n",
       "    <tr style=\"text-align: right;\">\n",
       "      <th></th>\n",
       "      <th>0</th>\n",
       "      <th>1</th>\n",
       "      <th>2</th>\n",
       "    </tr>\n",
       "  </thead>\n",
       "  <tbody>\n",
       "    <tr>\n",
       "      <th>0</th>\n",
       "      <td>GOOG</td>\n",
       "      <td>APPL</td>\n",
       "      <td>AMZN</td>\n",
       "    </tr>\n",
       "    <tr>\n",
       "      <th>1</th>\n",
       "      <td>JPM</td>\n",
       "      <td>BAC</td>\n",
       "      <td>GS</td>\n",
       "    </tr>\n",
       "  </tbody>\n",
       "</table>\n",
       "</div>"
      ],
      "text/plain": [
       "      0      1      2\n",
       "0  GOOG   APPL   AMZN\n",
       "1   JPM    BAC     GS"
      ]
     },
     "execution_count": 23,
     "metadata": {},
     "output_type": "execute_result"
    }
   ],
   "source": [
    "tickers.str.split(\",\", expand=True)  # ayrılmış elemanların her elemanını ayrı bir kolona bölmek için\n",
    "\n",
    "# NOT: Bunu yapabilmek için serinin tüm satırlarında aynı sayıda eleman olması gerekir. Aksi takdirde eleman olmayan bölmelerde NaN değerler yer alır."
   ]
  },
  {
   "cell_type": "markdown",
   "id": "18f93ddb",
   "metadata": {},
   "source": [
    "## Cleaning or Editing Strings"
   ]
  },
  {
   "cell_type": "code",
   "execution_count": 26,
   "id": "911c852c",
   "metadata": {},
   "outputs": [
    {
     "data": {
      "text/plain": [
       "0        andrew  \n",
       "1           bo;bo\n",
       "2       claire   \n",
       "dtype: object"
      ]
     },
     "execution_count": 26,
     "metadata": {},
     "output_type": "execute_result"
    }
   ],
   "source": [
    "messy_names = pd.Series([\"andrew  \",\"bo;bo\",\"   claire   \"])\n",
    "messy_names"
   ]
  },
  {
   "cell_type": "code",
   "execution_count": null,
   "id": "e0551257",
   "metadata": {},
   "outputs": [],
   "source": [
    "# Yazım hatası olan çok sayıda elemanı olan bir serinin verilerini str metodlarını kullanarak temizleyebiliriz.\n",
    "# Ör:"
   ]
  },
  {
   "cell_type": "code",
   "execution_count": 33,
   "id": "03ca7295",
   "metadata": {},
   "outputs": [
    {
     "data": {
      "text/plain": [
       "0        andrew  \n",
       "1            bobo\n",
       "2       claire   \n",
       "dtype: object"
      ]
     },
     "execution_count": 33,
     "metadata": {},
     "output_type": "execute_result"
    }
   ],
   "source": [
    "messy_names.str.replace(\";\",\"\")  # kelimeler arasındaki ; işaretini değiştirmek için"
   ]
  },
  {
   "cell_type": "code",
   "execution_count": 34,
   "id": "fc56ca8d",
   "metadata": {},
   "outputs": [
    {
     "data": {
      "text/plain": [
       "0    andrew\n",
       "1      bobo\n",
       "2    claire\n",
       "dtype: object"
      ]
     },
     "execution_count": 34,
     "metadata": {},
     "output_type": "execute_result"
    }
   ],
   "source": [
    "messy_names.str.replace(';',\"\").str.strip()  # sağ ve/veya sol tarafında boşluğu olan kelimelerin boşluklarını temizlemek için\n"
   ]
  },
  {
   "cell_type": "code",
   "execution_count": 35,
   "id": "53df92c2",
   "metadata": {},
   "outputs": [
    {
     "data": {
      "text/plain": [
       "0    Andrew\n",
       "1      Bobo\n",
       "2    Claire\n",
       "dtype: object"
      ]
     },
     "execution_count": 35,
     "metadata": {},
     "output_type": "execute_result"
    }
   ],
   "source": [
    "messy_names.str.replace(\";\",\"\").str.strip().str.capitalize()  # Baş harfi küçük olan kelimeleri düzeltmek için"
   ]
  },
  {
   "cell_type": "markdown",
   "id": "457d4597",
   "metadata": {},
   "source": [
    "## Alternative with Custom apply() call"
   ]
  },
  {
   "cell_type": "markdown",
   "id": "850d58b1",
   "metadata": {},
   "source": [
    "### Yukarıdaki tüm işlemleri yapan bir fonksiyonun apply metodu ile kullanılmasıyla da alternatif olarak aynı işlemler yapılabilir."
   ]
  },
  {
   "cell_type": "code",
   "execution_count": 41,
   "id": "951c6092",
   "metadata": {},
   "outputs": [],
   "source": [
    "def cleanup(name):\n",
    "    name = name.replace(\";\",\"\")\n",
    "    name = name.strip()\n",
    "    name = name.capitalize()\n",
    "    return name"
   ]
  },
  {
   "cell_type": "code",
   "execution_count": 42,
   "id": "bed5ce98",
   "metadata": {},
   "outputs": [
    {
     "data": {
      "text/plain": [
       "0    Andrew\n",
       "1      Bobo\n",
       "2    Claire\n",
       "dtype: object"
      ]
     },
     "execution_count": 42,
     "metadata": {},
     "output_type": "execute_result"
    }
   ],
   "source": [
    "# ÖNEMLİ NOT: apply içine yazılan fonksiyonu serinin tüm elemanlarına ayrı ayrı uyguladığı için\n",
    "# fonksiyon içerisine serinin elemanları girer. Bunlar da string olduğundan\n",
    "# fonksiyon yazılırken str.metod notasyonu yerine normal string metod kullanım yöntemi kullanılmalıdır.\n",
    "\n",
    "messy_names.apply(cleanup)"
   ]
  },
  {
   "cell_type": "markdown",
   "id": "1b53e8e9",
   "metadata": {},
   "source": [
    "## Which one is more efficient?\n",
    "\n",
    "Fonksiyon tanımlamak mı, yoksa seri adının arkasından str.metod yöntemini peşpeşe uygulamak mı?"
   ]
  },
  {
   "cell_type": "code",
   "execution_count": 43,
   "id": "ef61d80d",
   "metadata": {},
   "outputs": [],
   "source": [
    "import timeit"
   ]
  },
  {
   "cell_type": "code",
   "execution_count": 47,
   "id": "249128f6",
   "metadata": {},
   "outputs": [],
   "source": [
    "# code snippet executed only once\n",
    "\n",
    "setup = '''\n",
    "import pandas as pd\n",
    "import numpy as np\n",
    "messy_names = pd.Series([\"andrew  \",\"bo;bo\",\"   claire   \"])\n",
    "def cleanup(name):\n",
    "    name = name.replace(\";\",\"\")\n",
    "    name = name.strip()\n",
    "    name = name.capitalize()\n",
    "    return name\n",
    "'''\n",
    "\n",
    "# code snippet whose execution time is to be measured\n",
    "stmt_pandas_str = '''\n",
    "messy_names.str.replace(\";\",\"\").str.strip().str.capitalize()\n",
    "'''\n",
    "\n",
    "stmt_pandas_apply = '''\n",
    "messy_names.apply(cleanup)\n",
    "'''\n",
    "\n",
    "stmt_pandas_vectorize = '''\n",
    "np.vectorize(cleanup)(messy_names)\n",
    "'''"
   ]
  },
  {
   "cell_type": "code",
   "execution_count": 48,
   "id": "210d46b6",
   "metadata": {},
   "outputs": [
    {
     "data": {
      "text/plain": [
       "2.8812995000007504"
      ]
     },
     "execution_count": 48,
     "metadata": {},
     "output_type": "execute_result"
    }
   ],
   "source": [
    "timeit.timeit(setup = setup,\n",
    "             stmt = stmt_pandas_str,\n",
    "             number = 10000)"
   ]
  },
  {
   "cell_type": "code",
   "execution_count": 49,
   "id": "981fabd5",
   "metadata": {},
   "outputs": [
    {
     "data": {
      "text/plain": [
       "0.818574400000216"
      ]
     },
     "execution_count": 49,
     "metadata": {},
     "output_type": "execute_result"
    }
   ],
   "source": [
    "timeit.timeit(setup = setup,\n",
    "             stmt = stmt_pandas_apply,\n",
    "             number = 10000)"
   ]
  },
  {
   "cell_type": "code",
   "execution_count": 50,
   "id": "764ccbe3",
   "metadata": {},
   "outputs": [
    {
     "data": {
      "text/plain": [
       "0.17814009999983682"
      ]
     },
     "execution_count": 50,
     "metadata": {},
     "output_type": "execute_result"
    }
   ],
   "source": [
    "timeit.timeit(setup = setup,\n",
    "             stmt = stmt_pandas_vectorize,\n",
    "             number = 10000)"
   ]
  },
  {
   "cell_type": "markdown",
   "id": "c2bcdaab",
   "metadata": {},
   "source": [
    "Wow! While .str() methods can be extremely convienent, when it comes to performance, don't forget about np.vectorize()! Review the \"Useful Methods\" lecture for a deeper discussion on np.vectorize()"
   ]
  },
  {
   "cell_type": "code",
   "execution_count": null,
   "id": "0f9b0c24",
   "metadata": {},
   "outputs": [],
   "source": []
  },
  {
   "cell_type": "code",
   "execution_count": null,
   "id": "55929bd6",
   "metadata": {},
   "outputs": [],
   "source": []
  },
  {
   "cell_type": "code",
   "execution_count": null,
   "id": "8680749b",
   "metadata": {},
   "outputs": [],
   "source": []
  },
  {
   "cell_type": "code",
   "execution_count": null,
   "id": "937ffb55",
   "metadata": {},
   "outputs": [],
   "source": []
  }
 ],
 "metadata": {
  "kernelspec": {
   "display_name": "Python 3 (ipykernel)",
   "language": "python",
   "name": "python3"
  },
  "language_info": {
   "codemirror_mode": {
    "name": "ipython",
    "version": 3
   },
   "file_extension": ".py",
   "mimetype": "text/x-python",
   "name": "python",
   "nbconvert_exporter": "python",
   "pygments_lexer": "ipython3",
   "version": "3.9.7"
  }
 },
 "nbformat": 4,
 "nbformat_minor": 5
}

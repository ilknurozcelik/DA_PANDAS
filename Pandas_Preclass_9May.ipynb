{
 "cells": [
  {
   "cell_type": "markdown",
   "id": "fc59b21f",
   "metadata": {},
   "source": [
    "# Time Methods"
   ]
  },
  {
   "cell_type": "code",
   "execution_count": 1,
   "id": "c32077e0",
   "metadata": {},
   "outputs": [],
   "source": [
    "import numpy as np\n",
    "import pandas as pd\n",
    "import seaborn as sns"
   ]
  },
  {
   "cell_type": "markdown",
   "id": "9781a2a2",
   "metadata": {},
   "source": [
    "## datetime module contains the core objects for working with time series data in Python. "
   ]
  },
  {
   "cell_type": "code",
   "execution_count": 3,
   "id": "0a215ca3",
   "metadata": {},
   "outputs": [
    {
     "data": {
      "text/html": [
       "<div>\n",
       "<style scoped>\n",
       "    .dataframe tbody tr th:only-of-type {\n",
       "        vertical-align: middle;\n",
       "    }\n",
       "\n",
       "    .dataframe tbody tr th {\n",
       "        vertical-align: top;\n",
       "    }\n",
       "\n",
       "    .dataframe thead th {\n",
       "        text-align: right;\n",
       "    }\n",
       "</style>\n",
       "<table border=\"1\" class=\"dataframe\">\n",
       "  <thead>\n",
       "    <tr style=\"text-align: right;\">\n",
       "      <th></th>\n",
       "      <th>year</th>\n",
       "      <th>month</th>\n",
       "      <th>passengers</th>\n",
       "    </tr>\n",
       "  </thead>\n",
       "  <tbody>\n",
       "    <tr>\n",
       "      <th>0</th>\n",
       "      <td>1949</td>\n",
       "      <td>Jan</td>\n",
       "      <td>112</td>\n",
       "    </tr>\n",
       "    <tr>\n",
       "      <th>1</th>\n",
       "      <td>1949</td>\n",
       "      <td>Feb</td>\n",
       "      <td>118</td>\n",
       "    </tr>\n",
       "    <tr>\n",
       "      <th>2</th>\n",
       "      <td>1949</td>\n",
       "      <td>Mar</td>\n",
       "      <td>132</td>\n",
       "    </tr>\n",
       "  </tbody>\n",
       "</table>\n",
       "</div>"
      ],
      "text/plain": [
       "   year month  passengers\n",
       "0  1949   Jan         112\n",
       "1  1949   Feb         118\n",
       "2  1949   Mar         132"
      ]
     },
     "execution_count": 3,
     "metadata": {},
     "output_type": "execute_result"
    }
   ],
   "source": [
    "df = sns.load_dataset(\"flights\")\n",
    "df.head(3)"
   ]
  },
  {
   "cell_type": "code",
   "execution_count": null,
   "id": "94051a30",
   "metadata": {},
   "outputs": [],
   "source": [
    "# to_datetime metodu birçok farklı tarih gösterim şekillerini timestamp object'e ayrıştırır."
   ]
  },
  {
   "cell_type": "code",
   "execution_count": 4,
   "id": "8e22a54f",
   "metadata": {},
   "outputs": [
    {
     "data": {
      "text/plain": [
       "pandas.core.series.Series"
      ]
     },
     "execution_count": 4,
     "metadata": {},
     "output_type": "execute_result"
    }
   ],
   "source": [
    "type(df[\"year\"])"
   ]
  },
  {
   "cell_type": "code",
   "execution_count": 5,
   "id": "4aa66338",
   "metadata": {},
   "outputs": [
    {
     "data": {
      "text/plain": [
       "numpy.int64"
      ]
     },
     "execution_count": 5,
     "metadata": {},
     "output_type": "execute_result"
    }
   ],
   "source": [
    "type(df[\"year\"][0])"
   ]
  },
  {
   "cell_type": "code",
   "execution_count": 7,
   "id": "98074461",
   "metadata": {},
   "outputs": [
    {
     "data": {
      "text/plain": [
       "0   1949-01-01\n",
       "1   1949-01-01\n",
       "2   1949-01-01\n",
       "Name: year, dtype: datetime64[ns]"
      ]
     },
     "execution_count": 7,
     "metadata": {},
     "output_type": "execute_result"
    }
   ],
   "source": [
    "df[\"year\"] = pd.to_datetime(df[\"year\"], format=\"%Y\")\n",
    "df.year.head(3)"
   ]
  },
  {
   "cell_type": "code",
   "execution_count": null,
   "id": "7f8da568",
   "metadata": {},
   "outputs": [],
   "source": [
    "# strftime metodu belirtilen formata göre timestamp objecti stringe döndürür."
   ]
  },
  {
   "cell_type": "code",
   "execution_count": 9,
   "id": "ebe43e28",
   "metadata": {},
   "outputs": [
    {
     "data": {
      "text/plain": [
       "datetime.datetime(2022, 5, 9, 16, 48, 5, 414239)"
      ]
     },
     "execution_count": 9,
     "metadata": {},
     "output_type": "execute_result"
    }
   ],
   "source": [
    "from datetime import datetime\n",
    "current_date = datetime.now()\n",
    "current_date"
   ]
  },
  {
   "cell_type": "code",
   "execution_count": 11,
   "id": "c5efbc5b",
   "metadata": {},
   "outputs": [
    {
     "data": {
      "text/plain": [
       "'09 May 2022'"
      ]
     },
     "execution_count": 11,
     "metadata": {},
     "output_type": "execute_result"
    }
   ],
   "source": [
    "date = current_date.strftime((\"%d\"+\" \"+\"%b\"+\" \"+\"%Y\"))\n",
    "date"
   ]
  },
  {
   "cell_type": "code",
   "execution_count": null,
   "id": "cf547584",
   "metadata": {},
   "outputs": [],
   "source": [
    "# strptime meatodu belirtilen formata göre string objecti datetime objectine ayrıştırır."
   ]
  },
  {
   "cell_type": "code",
   "execution_count": 12,
   "id": "2d738dbf",
   "metadata": {},
   "outputs": [
    {
     "data": {
      "text/plain": [
       "datetime.datetime(2022, 5, 9, 0, 0)"
      ]
     },
     "execution_count": 12,
     "metadata": {},
     "output_type": "execute_result"
    }
   ],
   "source": [
    "datetime.strptime(date, \"%d %b %Y\")"
   ]
  },
  {
   "cell_type": "code",
   "execution_count": 14,
   "id": "71f55cb3",
   "metadata": {},
   "outputs": [],
   "source": [
    "# date.strptime(\"%d %b %Y\")  # 'str' object has no attribute 'strptime' (burada date str olduğu için arkasından strptime metdou kullanılamaz.)"
   ]
  },
  {
   "cell_type": "code",
   "execution_count": null,
   "id": "7577daca",
   "metadata": {},
   "outputs": [],
   "source": [
    "#timedelta zaman farkını verir."
   ]
  },
  {
   "cell_type": "code",
   "execution_count": 15,
   "id": "f2c9e257",
   "metadata": {},
   "outputs": [
    {
     "data": {
      "text/plain": [
       "datetime.datetime(2022, 5, 7, 16, 59, 26, 473368)"
      ]
     },
     "execution_count": 15,
     "metadata": {},
     "output_type": "execute_result"
    }
   ],
   "source": [
    "from datetime import timedelta\n",
    "two_days_before=current_date.now() - timedelta(days=2)\n",
    "two_days_before"
   ]
  },
  {
   "cell_type": "code",
   "execution_count": null,
   "id": "6e69a5ed",
   "metadata": {},
   "outputs": [],
   "source": []
  }
 ],
 "metadata": {
  "kernelspec": {
   "display_name": "Python 3 (ipykernel)",
   "language": "python",
   "name": "python3"
  },
  "language_info": {
   "codemirror_mode": {
    "name": "ipython",
    "version": 3
   },
   "file_extension": ".py",
   "mimetype": "text/x-python",
   "name": "python",
   "nbconvert_exporter": "python",
   "pygments_lexer": "ipython3",
   "version": "3.9.7"
  }
 },
 "nbformat": 4,
 "nbformat_minor": 5
}

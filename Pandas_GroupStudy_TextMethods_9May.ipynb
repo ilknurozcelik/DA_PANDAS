{
 "cells": [
  {
   "cell_type": "code",
   "execution_count": 1,
   "id": "67f1af8e",
   "metadata": {},
   "outputs": [],
   "source": [
    "import numpy as np\n",
    "import pandas as pd"
   ]
  },
  {
   "cell_type": "markdown",
   "id": "6e73953a",
   "metadata": {},
   "source": [
    "# Text Metods"
   ]
  },
  {
   "cell_type": "code",
   "execution_count": 2,
   "id": "fb6b3fa7",
   "metadata": {},
   "outputs": [],
   "source": [
    "names = pd.Series([\"Ali\",\"Deli\",\"Veli\",\"Zeli\",\"56\"])"
   ]
  },
  {
   "cell_type": "code",
   "execution_count": 3,
   "id": "273ab29b",
   "metadata": {},
   "outputs": [
    {
     "data": {
      "text/plain": [
       "0     Ali\n",
       "1    Deli\n",
       "2    Veli\n",
       "3    Zeli\n",
       "4      56\n",
       "dtype: object"
      ]
     },
     "execution_count": 3,
     "metadata": {},
     "output_type": "execute_result"
    }
   ],
   "source": [
    "names"
   ]
  },
  {
   "cell_type": "code",
   "execution_count": 4,
   "id": "9b74a216",
   "metadata": {},
   "outputs": [
    {
     "data": {
      "text/plain": [
       "0     ALI\n",
       "1    DELI\n",
       "2    VELI\n",
       "3    ZELI\n",
       "4      56\n",
       "dtype: object"
      ]
     },
     "execution_count": 4,
     "metadata": {},
     "output_type": "execute_result"
    }
   ],
   "source": [
    "names.str.upper()"
   ]
  },
  {
   "cell_type": "code",
   "execution_count": 5,
   "id": "c9926c12",
   "metadata": {},
   "outputs": [],
   "source": [
    "names = pd.Series([\"Ali\",\"Deli\",\"Veli\",\"Zeli\",\"56\", 4.2])"
   ]
  },
  {
   "cell_type": "code",
   "execution_count": 6,
   "id": "9233999c",
   "metadata": {},
   "outputs": [
    {
     "data": {
      "text/plain": [
       "0     Ali\n",
       "1    Deli\n",
       "2    Veli\n",
       "3    Zeli\n",
       "4      56\n",
       "5     4.2\n",
       "dtype: object"
      ]
     },
     "execution_count": 6,
     "metadata": {},
     "output_type": "execute_result"
    }
   ],
   "source": [
    "names"
   ]
  },
  {
   "cell_type": "code",
   "execution_count": 7,
   "id": "2a31d97c",
   "metadata": {},
   "outputs": [
    {
     "data": {
      "text/plain": [
       "0    False\n",
       "1    False\n",
       "2    False\n",
       "3    False\n",
       "4    False\n",
       "5      NaN\n",
       "dtype: object"
      ]
     },
     "execution_count": 7,
     "metadata": {},
     "output_type": "execute_result"
    }
   ],
   "source": [
    "names.str.islower()"
   ]
  },
  {
   "cell_type": "code",
   "execution_count": 8,
   "id": "fa23ae1a",
   "metadata": {},
   "outputs": [],
   "source": [
    "names = pd.Series([\"ali\",\"Deli\",\"Veli\",\"Zeli\",\"56\", 4.2])"
   ]
  },
  {
   "cell_type": "code",
   "execution_count": 9,
   "id": "7ba3e871",
   "metadata": {},
   "outputs": [
    {
     "data": {
      "text/plain": [
       "0     True\n",
       "1    False\n",
       "2    False\n",
       "3    False\n",
       "4    False\n",
       "5      NaN\n",
       "dtype: object"
      ]
     },
     "execution_count": 9,
     "metadata": {},
     "output_type": "execute_result"
    }
   ],
   "source": [
    "names.str.islower()"
   ]
  },
  {
   "cell_type": "code",
   "execution_count": 10,
   "id": "f5c8c96e",
   "metadata": {},
   "outputs": [],
   "source": [
    "names = pd.Series([\"ali\",\"Deli\",\"Veli\",\"Zeli\",\"56\"])"
   ]
  },
  {
   "cell_type": "code",
   "execution_count": 11,
   "id": "77ba0809",
   "metadata": {},
   "outputs": [
    {
     "data": {
      "text/plain": [
       "0     True\n",
       "1    False\n",
       "2    False\n",
       "3    False\n",
       "4    False\n",
       "dtype: bool"
      ]
     },
     "execution_count": 11,
     "metadata": {},
     "output_type": "execute_result"
    }
   ],
   "source": [
    "names.str.islower()"
   ]
  },
  {
   "cell_type": "code",
   "execution_count": 12,
   "id": "09678cec",
   "metadata": {},
   "outputs": [
    {
     "data": {
      "text/plain": [
       "0    ali\n",
       "dtype: object"
      ]
     },
     "execution_count": 12,
     "metadata": {},
     "output_type": "execute_result"
    }
   ],
   "source": [
    "names[names.str.islower()]"
   ]
  },
  {
   "cell_type": "code",
   "execution_count": 13,
   "id": "02b6e232",
   "metadata": {},
   "outputs": [
    {
     "data": {
      "text/plain": [
       "0     ali\n",
       "1    Deli\n",
       "2    Veli\n",
       "3    Zeli\n",
       "dtype: object"
      ]
     },
     "execution_count": 13,
     "metadata": {},
     "output_type": "execute_result"
    }
   ],
   "source": [
    "names[~names.str.isnumeric()]"
   ]
  },
  {
   "cell_type": "code",
   "execution_count": 14,
   "id": "98268269",
   "metadata": {},
   "outputs": [],
   "source": [
    "comps = [\"QNB,BBVA,GP\",\"Ford,Audi,BMW\"]"
   ]
  },
  {
   "cell_type": "code",
   "execution_count": 15,
   "id": "2ded96e1",
   "metadata": {},
   "outputs": [],
   "source": [
    "comp= pd.Series(comps)"
   ]
  },
  {
   "cell_type": "code",
   "execution_count": 16,
   "id": "9fe4a721",
   "metadata": {},
   "outputs": [
    {
     "data": {
      "text/plain": [
       "['QNB', 'BBVA', 'GP']"
      ]
     },
     "execution_count": 16,
     "metadata": {},
     "output_type": "execute_result"
    }
   ],
   "source": [
    "comps[0].split(\",\")"
   ]
  },
  {
   "cell_type": "code",
   "execution_count": 17,
   "id": "3ef6ac65",
   "metadata": {},
   "outputs": [
    {
     "data": {
      "text/plain": [
       "0      [QNB, BBVA, GP]\n",
       "1    [Ford, Audi, BMW]\n",
       "dtype: object"
      ]
     },
     "execution_count": 17,
     "metadata": {},
     "output_type": "execute_result"
    }
   ],
   "source": [
    "comp.str.split(\",\")"
   ]
  },
  {
   "cell_type": "code",
   "execution_count": 18,
   "id": "185829c6",
   "metadata": {},
   "outputs": [
    {
     "data": {
      "text/plain": [
       "0     QNB\n",
       "1    Ford\n",
       "dtype: object"
      ]
     },
     "execution_count": 18,
     "metadata": {},
     "output_type": "execute_result"
    }
   ],
   "source": [
    "comp.str.split(\",\").str[0]"
   ]
  },
  {
   "cell_type": "code",
   "execution_count": 19,
   "id": "a5eab96a",
   "metadata": {},
   "outputs": [
    {
     "data": {
      "text/html": [
       "<div>\n",
       "<style scoped>\n",
       "    .dataframe tbody tr th:only-of-type {\n",
       "        vertical-align: middle;\n",
       "    }\n",
       "\n",
       "    .dataframe tbody tr th {\n",
       "        vertical-align: top;\n",
       "    }\n",
       "\n",
       "    .dataframe thead th {\n",
       "        text-align: right;\n",
       "    }\n",
       "</style>\n",
       "<table border=\"1\" class=\"dataframe\">\n",
       "  <thead>\n",
       "    <tr style=\"text-align: right;\">\n",
       "      <th></th>\n",
       "      <th>0</th>\n",
       "      <th>1</th>\n",
       "      <th>2</th>\n",
       "    </tr>\n",
       "  </thead>\n",
       "  <tbody>\n",
       "    <tr>\n",
       "      <th>0</th>\n",
       "      <td>QNB</td>\n",
       "      <td>BBVA</td>\n",
       "      <td>GP</td>\n",
       "    </tr>\n",
       "    <tr>\n",
       "      <th>1</th>\n",
       "      <td>Ford</td>\n",
       "      <td>Audi</td>\n",
       "      <td>BMW</td>\n",
       "    </tr>\n",
       "  </tbody>\n",
       "</table>\n",
       "</div>"
      ],
      "text/plain": [
       "      0     1    2\n",
       "0   QNB  BBVA   GP\n",
       "1  Ford  Audi  BMW"
      ]
     },
     "execution_count": 19,
     "metadata": {},
     "output_type": "execute_result"
    }
   ],
   "source": [
    "comp.str.split(\",\", expand=True)"
   ]
  },
  {
   "cell_type": "code",
   "execution_count": 20,
   "id": "a4c42d8f",
   "metadata": {},
   "outputs": [],
   "source": [
    "isimler = pd.Series([\"ali\",\"Del??i\",\"Vel??i\",\"Zel??i\",\"56\"])"
   ]
  },
  {
   "cell_type": "code",
   "execution_count": 21,
   "id": "97756b50",
   "metadata": {},
   "outputs": [
    {
     "data": {
      "text/plain": [
       "0       ali\n",
       "1    Del??i\n",
       "2    Vel??i\n",
       "3    Zel??i\n",
       "4        56\n",
       "dtype: object"
      ]
     },
     "execution_count": 21,
     "metadata": {},
     "output_type": "execute_result"
    }
   ],
   "source": [
    "isimler"
   ]
  },
  {
   "cell_type": "code",
   "execution_count": 22,
   "id": "045958f3",
   "metadata": {},
   "outputs": [],
   "source": [
    "def func(x):\n",
    "    return x.replace(\"??\", \"\")"
   ]
  },
  {
   "cell_type": "code",
   "execution_count": 23,
   "id": "9e2c4495",
   "metadata": {},
   "outputs": [
    {
     "name": "stderr",
     "output_type": "stream",
     "text": [
      "C:\\Users\\user\\AppData\\Local\\Temp/ipykernel_5912/3063056128.py:1: FutureWarning: The default value of regex will change from True to False in a future version. In addition, single character regular expressions will *not* be treated as literal strings when regex=True.\n",
      "  isimler.str.replace(\"?\", \"\")\n"
     ]
    },
    {
     "data": {
      "text/plain": [
       "0     ali\n",
       "1    Deli\n",
       "2    Veli\n",
       "3    Zeli\n",
       "4      56\n",
       "dtype: object"
      ]
     },
     "execution_count": 23,
     "metadata": {},
     "output_type": "execute_result"
    }
   ],
   "source": [
    "isimler.str.replace(\"?\", \"\")"
   ]
  },
  {
   "cell_type": "code",
   "execution_count": 24,
   "id": "f72b73b3",
   "metadata": {},
   "outputs": [
    {
     "data": {
      "text/plain": [
       "0     ali\n",
       "1    Deli\n",
       "2    Veli\n",
       "3    Zeli\n",
       "4      56\n",
       "dtype: object"
      ]
     },
     "execution_count": 24,
     "metadata": {},
     "output_type": "execute_result"
    }
   ],
   "source": [
    "isimler.str.replace(\"\\?\", \"\", regex=True)"
   ]
  },
  {
   "cell_type": "code",
   "execution_count": 115,
   "id": "ede73a3b",
   "metadata": {},
   "outputs": [
    {
     "data": {
      "text/html": [
       "<div>\n",
       "<style scoped>\n",
       "    .dataframe tbody tr th:only-of-type {\n",
       "        vertical-align: middle;\n",
       "    }\n",
       "\n",
       "    .dataframe tbody tr th {\n",
       "        vertical-align: top;\n",
       "    }\n",
       "\n",
       "    .dataframe thead th {\n",
       "        text-align: right;\n",
       "    }\n",
       "</style>\n",
       "<table border=\"1\" class=\"dataframe\">\n",
       "  <thead>\n",
       "    <tr style=\"text-align: right;\">\n",
       "      <th></th>\n",
       "      <th>0</th>\n",
       "    </tr>\n",
       "  </thead>\n",
       "  <tbody>\n",
       "    <tr>\n",
       "      <th>0</th>\n",
       "      <td>ali</td>\n",
       "    </tr>\n",
       "    <tr>\n",
       "      <th>1</th>\n",
       "      <td>Del</td>\n",
       "    </tr>\n",
       "    <tr>\n",
       "      <th>2</th>\n",
       "      <td>Vel</td>\n",
       "    </tr>\n",
       "    <tr>\n",
       "      <th>3</th>\n",
       "      <td>Zel</td>\n",
       "    </tr>\n",
       "    <tr>\n",
       "      <th>4</th>\n",
       "      <td>56</td>\n",
       "    </tr>\n",
       "  </tbody>\n",
       "</table>\n",
       "</div>"
      ],
      "text/plain": [
       "     0\n",
       "0  ali\n",
       "1  Del\n",
       "2  Vel\n",
       "3  Zel\n",
       "4   56"
      ]
     },
     "execution_count": 115,
     "metadata": {},
     "output_type": "execute_result"
    }
   ],
   "source": [
    "isimler.str.extract(\"([\\w]+)\")"
   ]
  },
  {
   "cell_type": "code",
   "execution_count": 26,
   "id": "9dd70435",
   "metadata": {},
   "outputs": [
    {
     "data": {
      "text/plain": [
       "0   -1\n",
       "1    1\n",
       "2    1\n",
       "3    1\n",
       "4   -1\n",
       "dtype: int64"
      ]
     },
     "execution_count": 26,
     "metadata": {},
     "output_type": "execute_result"
    }
   ],
   "source": [
    "isimler.str.find(\"e\")"
   ]
  },
  {
   "cell_type": "code",
   "execution_count": 27,
   "id": "8f77ce1a",
   "metadata": {},
   "outputs": [
    {
     "data": {
      "text/plain": [
       "0      []\n",
       "1      []\n",
       "2      []\n",
       "3      []\n",
       "4    [56]\n",
       "dtype: object"
      ]
     },
     "execution_count": 27,
     "metadata": {},
     "output_type": "execute_result"
    }
   ],
   "source": [
    "isimler.str.findall(\"([0-9]+)\")"
   ]
  },
  {
   "cell_type": "code",
   "execution_count": 28,
   "id": "64c8787b",
   "metadata": {},
   "outputs": [],
   "source": [
    "import seaborn as sns"
   ]
  },
  {
   "cell_type": "code",
   "execution_count": 29,
   "id": "edd6e313",
   "metadata": {},
   "outputs": [],
   "source": [
    "df = sns.load_dataset(\"titanic\")"
   ]
  },
  {
   "cell_type": "code",
   "execution_count": 30,
   "id": "19f973ce",
   "metadata": {},
   "outputs": [
    {
     "data": {
      "text/html": [
       "<div>\n",
       "<style scoped>\n",
       "    .dataframe tbody tr th:only-of-type {\n",
       "        vertical-align: middle;\n",
       "    }\n",
       "\n",
       "    .dataframe tbody tr th {\n",
       "        vertical-align: top;\n",
       "    }\n",
       "\n",
       "    .dataframe thead th {\n",
       "        text-align: right;\n",
       "    }\n",
       "</style>\n",
       "<table border=\"1\" class=\"dataframe\">\n",
       "  <thead>\n",
       "    <tr style=\"text-align: right;\">\n",
       "      <th></th>\n",
       "      <th>survived</th>\n",
       "      <th>pclass</th>\n",
       "      <th>sex</th>\n",
       "      <th>age</th>\n",
       "      <th>sibsp</th>\n",
       "      <th>parch</th>\n",
       "      <th>fare</th>\n",
       "      <th>embarked</th>\n",
       "      <th>class</th>\n",
       "      <th>who</th>\n",
       "      <th>adult_male</th>\n",
       "      <th>deck</th>\n",
       "      <th>embark_town</th>\n",
       "      <th>alive</th>\n",
       "      <th>alone</th>\n",
       "    </tr>\n",
       "  </thead>\n",
       "  <tbody>\n",
       "    <tr>\n",
       "      <th>0</th>\n",
       "      <td>0</td>\n",
       "      <td>3</td>\n",
       "      <td>male</td>\n",
       "      <td>22.0</td>\n",
       "      <td>1</td>\n",
       "      <td>0</td>\n",
       "      <td>7.2500</td>\n",
       "      <td>S</td>\n",
       "      <td>Third</td>\n",
       "      <td>man</td>\n",
       "      <td>True</td>\n",
       "      <td>NaN</td>\n",
       "      <td>Southampton</td>\n",
       "      <td>no</td>\n",
       "      <td>False</td>\n",
       "    </tr>\n",
       "    <tr>\n",
       "      <th>1</th>\n",
       "      <td>1</td>\n",
       "      <td>1</td>\n",
       "      <td>female</td>\n",
       "      <td>38.0</td>\n",
       "      <td>1</td>\n",
       "      <td>0</td>\n",
       "      <td>71.2833</td>\n",
       "      <td>C</td>\n",
       "      <td>First</td>\n",
       "      <td>woman</td>\n",
       "      <td>False</td>\n",
       "      <td>C</td>\n",
       "      <td>Cherbourg</td>\n",
       "      <td>yes</td>\n",
       "      <td>False</td>\n",
       "    </tr>\n",
       "    <tr>\n",
       "      <th>2</th>\n",
       "      <td>1</td>\n",
       "      <td>3</td>\n",
       "      <td>female</td>\n",
       "      <td>26.0</td>\n",
       "      <td>0</td>\n",
       "      <td>0</td>\n",
       "      <td>7.9250</td>\n",
       "      <td>S</td>\n",
       "      <td>Third</td>\n",
       "      <td>woman</td>\n",
       "      <td>False</td>\n",
       "      <td>NaN</td>\n",
       "      <td>Southampton</td>\n",
       "      <td>yes</td>\n",
       "      <td>True</td>\n",
       "    </tr>\n",
       "    <tr>\n",
       "      <th>3</th>\n",
       "      <td>1</td>\n",
       "      <td>1</td>\n",
       "      <td>female</td>\n",
       "      <td>35.0</td>\n",
       "      <td>1</td>\n",
       "      <td>0</td>\n",
       "      <td>53.1000</td>\n",
       "      <td>S</td>\n",
       "      <td>First</td>\n",
       "      <td>woman</td>\n",
       "      <td>False</td>\n",
       "      <td>C</td>\n",
       "      <td>Southampton</td>\n",
       "      <td>yes</td>\n",
       "      <td>False</td>\n",
       "    </tr>\n",
       "    <tr>\n",
       "      <th>4</th>\n",
       "      <td>0</td>\n",
       "      <td>3</td>\n",
       "      <td>male</td>\n",
       "      <td>35.0</td>\n",
       "      <td>0</td>\n",
       "      <td>0</td>\n",
       "      <td>8.0500</td>\n",
       "      <td>S</td>\n",
       "      <td>Third</td>\n",
       "      <td>man</td>\n",
       "      <td>True</td>\n",
       "      <td>NaN</td>\n",
       "      <td>Southampton</td>\n",
       "      <td>no</td>\n",
       "      <td>True</td>\n",
       "    </tr>\n",
       "  </tbody>\n",
       "</table>\n",
       "</div>"
      ],
      "text/plain": [
       "   survived  pclass     sex   age  sibsp  parch     fare embarked  class  \\\n",
       "0         0       3    male  22.0      1      0   7.2500        S  Third   \n",
       "1         1       1  female  38.0      1      0  71.2833        C  First   \n",
       "2         1       3  female  26.0      0      0   7.9250        S  Third   \n",
       "3         1       1  female  35.0      1      0  53.1000        S  First   \n",
       "4         0       3    male  35.0      0      0   8.0500        S  Third   \n",
       "\n",
       "     who  adult_male deck  embark_town alive  alone  \n",
       "0    man        True  NaN  Southampton    no  False  \n",
       "1  woman       False    C    Cherbourg   yes  False  \n",
       "2  woman       False  NaN  Southampton   yes   True  \n",
       "3  woman       False    C  Southampton   yes  False  \n",
       "4    man        True  NaN  Southampton    no   True  "
      ]
     },
     "execution_count": 30,
     "metadata": {},
     "output_type": "execute_result"
    }
   ],
   "source": [
    "df.head()"
   ]
  },
  {
   "cell_type": "code",
   "execution_count": 31,
   "id": "1f4ff729",
   "metadata": {},
   "outputs": [],
   "source": [
    "df.embark_town = df.embark_town.str.lower()"
   ]
  },
  {
   "cell_type": "code",
   "execution_count": 32,
   "id": "bffa6164",
   "metadata": {},
   "outputs": [
    {
     "data": {
      "text/plain": [
       "0    southampton\n",
       "1      cherbourg\n",
       "2    southampton\n",
       "Name: embark_town, dtype: object"
      ]
     },
     "execution_count": 32,
     "metadata": {},
     "output_type": "execute_result"
    }
   ],
   "source": [
    "df.embark_town.head(3)"
   ]
  },
  {
   "cell_type": "code",
   "execution_count": 33,
   "id": "be2368f5",
   "metadata": {},
   "outputs": [
    {
     "data": {
      "text/plain": [
       "0      MALE\n",
       "1    FEMALE\n",
       "2    FEMALE\n",
       "3    FEMALE\n",
       "4      MALE\n",
       "Name: sex, dtype: object"
      ]
     },
     "execution_count": 33,
     "metadata": {},
     "output_type": "execute_result"
    }
   ],
   "source": [
    "df.sex = df.sex.str.upper()\n",
    "df.sex.head()"
   ]
  },
  {
   "cell_type": "code",
   "execution_count": 34,
   "id": "3553b69c",
   "metadata": {},
   "outputs": [
    {
     "data": {
      "text/plain": [
       "0    False\n",
       "1    False\n",
       "2    False\n",
       "3    False\n",
       "4    False\n",
       "Name: sex, dtype: bool"
      ]
     },
     "execution_count": 34,
     "metadata": {},
     "output_type": "execute_result"
    }
   ],
   "source": [
    "df.sex.head().str.islower()  # stringdeki bütün karakterlerin küçük harf olup olmadığına bakmak için"
   ]
  },
  {
   "cell_type": "code",
   "execution_count": 35,
   "id": "17e6901e",
   "metadata": {},
   "outputs": [
    {
     "data": {
      "text/plain": [
       "0    True\n",
       "1    True\n",
       "2    True\n",
       "3    True\n",
       "4    True\n",
       "Name: sex, dtype: bool"
      ]
     },
     "execution_count": 35,
     "metadata": {},
     "output_type": "execute_result"
    }
   ],
   "source": [
    "df.sex.head().str.isupper() # stringdeki bütün karakterlerin büyük harf olup olmadığına bakmak için"
   ]
  },
  {
   "cell_type": "code",
   "execution_count": 36,
   "id": "bde8e9bc",
   "metadata": {},
   "outputs": [
    {
     "data": {
      "text/plain": [
       "0    True\n",
       "1    True\n",
       "2    True\n",
       "Name: pclass, dtype: boolean"
      ]
     },
     "execution_count": 36,
     "metadata": {},
     "output_type": "execute_result"
    }
   ],
   "source": [
    "df.pclass.astype(\"string\").str.isdigit().head(3)  # pclass sütunundaki verilerin digit(sayısal) olup olmadığına bakmak için"
   ]
  },
  {
   "cell_type": "code",
   "execution_count": 37,
   "id": "92a31553",
   "metadata": {},
   "outputs": [
    {
     "data": {
      "text/plain": [
       "0    True\n",
       "1    True\n",
       "2    True\n",
       "3    True\n",
       "Name: pclass, dtype: boolean"
      ]
     },
     "execution_count": 37,
     "metadata": {},
     "output_type": "execute_result"
    }
   ],
   "source": [
    "df.pclass.astype(\"string\").str.isnumeric().head(4)  # pclass sütunundaki verilerin numeric olup olmadığına bakmak için"
   ]
  },
  {
   "cell_type": "code",
   "execution_count": 38,
   "id": "0cdb2101",
   "metadata": {},
   "outputs": [
    {
     "name": "stdout",
     "output_type": "stream",
     "text": [
      "<class 'pandas.core.frame.DataFrame'>\n",
      "RangeIndex: 891 entries, 0 to 890\n",
      "Data columns (total 15 columns):\n",
      " #   Column       Non-Null Count  Dtype   \n",
      "---  ------       --------------  -----   \n",
      " 0   survived     891 non-null    int64   \n",
      " 1   pclass       891 non-null    int64   \n",
      " 2   sex          891 non-null    object  \n",
      " 3   age          714 non-null    float64 \n",
      " 4   sibsp        891 non-null    int64   \n",
      " 5   parch        891 non-null    int64   \n",
      " 6   fare         891 non-null    float64 \n",
      " 7   embarked     889 non-null    object  \n",
      " 8   class        891 non-null    category\n",
      " 9   who          891 non-null    object  \n",
      " 10  adult_male   891 non-null    bool    \n",
      " 11  deck         203 non-null    category\n",
      " 12  embark_town  889 non-null    object  \n",
      " 13  alive        891 non-null    object  \n",
      " 14  alone        891 non-null    bool    \n",
      "dtypes: bool(2), category(2), float64(2), int64(4), object(5)\n",
      "memory usage: 80.7+ KB\n"
     ]
    }
   ],
   "source": [
    "df.info()"
   ]
  },
  {
   "cell_type": "code",
   "execution_count": 39,
   "id": "3137d0bb",
   "metadata": {},
   "outputs": [
    {
     "data": {
      "text/plain": [
       "age\n",
       "0.42         1\n",
       "0.67         1\n",
       "0.75         2\n",
       "0.83         2\n",
       "0.92         1\n",
       "          ... \n",
       "70.5         1\n",
       "71.0         2\n",
       "74.0         1\n",
       "80.0         1\n",
       "UNKNOWN    177\n",
       "Name: age, Length: 89, dtype: int64"
      ]
     },
     "execution_count": 39,
     "metadata": {},
     "output_type": "execute_result"
    }
   ],
   "source": [
    "df[\"age\"] = df[\"age\"].replace(np.nan, \"UNKNOWN\")\n",
    "df.groupby(\"age\")[\"age\"].count()"
   ]
  },
  {
   "cell_type": "code",
   "execution_count": 40,
   "id": "17182f74",
   "metadata": {},
   "outputs": [
    {
     "data": {
      "text/plain": [
       "0       True\n",
       "1       True\n",
       "2      False\n",
       "3       True\n",
       "4      False\n",
       "       ...  \n",
       "886    False\n",
       "887    False\n",
       "888     True\n",
       "889    False\n",
       "890    False\n",
       "Name: sibsp, Length: 891, dtype: boolean"
      ]
     },
     "execution_count": 40,
     "metadata": {},
     "output_type": "execute_result"
    }
   ],
   "source": [
    "df.sibsp.astype(\"string\").str.contains(\"1\")  # "
   ]
  },
  {
   "cell_type": "code",
   "execution_count": 41,
   "id": "09dab462",
   "metadata": {},
   "outputs": [
    {
     "data": {
      "text/html": [
       "<div>\n",
       "<style scoped>\n",
       "    .dataframe tbody tr th:only-of-type {\n",
       "        vertical-align: middle;\n",
       "    }\n",
       "\n",
       "    .dataframe tbody tr th {\n",
       "        vertical-align: top;\n",
       "    }\n",
       "\n",
       "    .dataframe thead th {\n",
       "        text-align: right;\n",
       "    }\n",
       "</style>\n",
       "<table border=\"1\" class=\"dataframe\">\n",
       "  <thead>\n",
       "    <tr style=\"text-align: right;\">\n",
       "      <th></th>\n",
       "      <th>survived</th>\n",
       "      <th>pclass</th>\n",
       "      <th>sex</th>\n",
       "      <th>age</th>\n",
       "      <th>sibsp</th>\n",
       "      <th>parch</th>\n",
       "      <th>fare</th>\n",
       "      <th>embarked</th>\n",
       "      <th>class</th>\n",
       "      <th>who</th>\n",
       "      <th>adult_male</th>\n",
       "      <th>deck</th>\n",
       "      <th>embark_town</th>\n",
       "      <th>alive</th>\n",
       "      <th>alone</th>\n",
       "    </tr>\n",
       "  </thead>\n",
       "  <tbody>\n",
       "    <tr>\n",
       "      <th>0</th>\n",
       "      <td>0</td>\n",
       "      <td>3</td>\n",
       "      <td>MALE</td>\n",
       "      <td>22.0</td>\n",
       "      <td>1</td>\n",
       "      <td>0</td>\n",
       "      <td>7.2500</td>\n",
       "      <td>S</td>\n",
       "      <td>Third</td>\n",
       "      <td>man</td>\n",
       "      <td>True</td>\n",
       "      <td>NaN</td>\n",
       "      <td>southampton</td>\n",
       "      <td>no</td>\n",
       "      <td>False</td>\n",
       "    </tr>\n",
       "    <tr>\n",
       "      <th>1</th>\n",
       "      <td>1</td>\n",
       "      <td>1</td>\n",
       "      <td>FEMALE</td>\n",
       "      <td>38.0</td>\n",
       "      <td>1</td>\n",
       "      <td>0</td>\n",
       "      <td>71.2833</td>\n",
       "      <td>C</td>\n",
       "      <td>First</td>\n",
       "      <td>woman</td>\n",
       "      <td>False</td>\n",
       "      <td>C</td>\n",
       "      <td>cherbourg</td>\n",
       "      <td>yes</td>\n",
       "      <td>False</td>\n",
       "    </tr>\n",
       "    <tr>\n",
       "      <th>3</th>\n",
       "      <td>1</td>\n",
       "      <td>1</td>\n",
       "      <td>FEMALE</td>\n",
       "      <td>35.0</td>\n",
       "      <td>1</td>\n",
       "      <td>0</td>\n",
       "      <td>53.1000</td>\n",
       "      <td>S</td>\n",
       "      <td>First</td>\n",
       "      <td>woman</td>\n",
       "      <td>False</td>\n",
       "      <td>C</td>\n",
       "      <td>southampton</td>\n",
       "      <td>yes</td>\n",
       "      <td>False</td>\n",
       "    </tr>\n",
       "    <tr>\n",
       "      <th>9</th>\n",
       "      <td>1</td>\n",
       "      <td>2</td>\n",
       "      <td>FEMALE</td>\n",
       "      <td>14.0</td>\n",
       "      <td>1</td>\n",
       "      <td>0</td>\n",
       "      <td>30.0708</td>\n",
       "      <td>C</td>\n",
       "      <td>Second</td>\n",
       "      <td>child</td>\n",
       "      <td>False</td>\n",
       "      <td>NaN</td>\n",
       "      <td>cherbourg</td>\n",
       "      <td>yes</td>\n",
       "      <td>False</td>\n",
       "    </tr>\n",
       "    <tr>\n",
       "      <th>10</th>\n",
       "      <td>1</td>\n",
       "      <td>3</td>\n",
       "      <td>FEMALE</td>\n",
       "      <td>4.0</td>\n",
       "      <td>1</td>\n",
       "      <td>1</td>\n",
       "      <td>16.7000</td>\n",
       "      <td>S</td>\n",
       "      <td>Third</td>\n",
       "      <td>child</td>\n",
       "      <td>False</td>\n",
       "      <td>G</td>\n",
       "      <td>southampton</td>\n",
       "      <td>yes</td>\n",
       "      <td>False</td>\n",
       "    </tr>\n",
       "    <tr>\n",
       "      <th>...</th>\n",
       "      <td>...</td>\n",
       "      <td>...</td>\n",
       "      <td>...</td>\n",
       "      <td>...</td>\n",
       "      <td>...</td>\n",
       "      <td>...</td>\n",
       "      <td>...</td>\n",
       "      <td>...</td>\n",
       "      <td>...</td>\n",
       "      <td>...</td>\n",
       "      <td>...</td>\n",
       "      <td>...</td>\n",
       "      <td>...</td>\n",
       "      <td>...</td>\n",
       "      <td>...</td>\n",
       "    </tr>\n",
       "    <tr>\n",
       "      <th>866</th>\n",
       "      <td>1</td>\n",
       "      <td>2</td>\n",
       "      <td>FEMALE</td>\n",
       "      <td>27.0</td>\n",
       "      <td>1</td>\n",
       "      <td>0</td>\n",
       "      <td>13.8583</td>\n",
       "      <td>C</td>\n",
       "      <td>Second</td>\n",
       "      <td>woman</td>\n",
       "      <td>False</td>\n",
       "      <td>NaN</td>\n",
       "      <td>cherbourg</td>\n",
       "      <td>yes</td>\n",
       "      <td>False</td>\n",
       "    </tr>\n",
       "    <tr>\n",
       "      <th>869</th>\n",
       "      <td>1</td>\n",
       "      <td>3</td>\n",
       "      <td>MALE</td>\n",
       "      <td>4.0</td>\n",
       "      <td>1</td>\n",
       "      <td>1</td>\n",
       "      <td>11.1333</td>\n",
       "      <td>S</td>\n",
       "      <td>Third</td>\n",
       "      <td>child</td>\n",
       "      <td>False</td>\n",
       "      <td>NaN</td>\n",
       "      <td>southampton</td>\n",
       "      <td>yes</td>\n",
       "      <td>False</td>\n",
       "    </tr>\n",
       "    <tr>\n",
       "      <th>871</th>\n",
       "      <td>1</td>\n",
       "      <td>1</td>\n",
       "      <td>FEMALE</td>\n",
       "      <td>47.0</td>\n",
       "      <td>1</td>\n",
       "      <td>1</td>\n",
       "      <td>52.5542</td>\n",
       "      <td>S</td>\n",
       "      <td>First</td>\n",
       "      <td>woman</td>\n",
       "      <td>False</td>\n",
       "      <td>D</td>\n",
       "      <td>southampton</td>\n",
       "      <td>yes</td>\n",
       "      <td>False</td>\n",
       "    </tr>\n",
       "    <tr>\n",
       "      <th>874</th>\n",
       "      <td>1</td>\n",
       "      <td>2</td>\n",
       "      <td>FEMALE</td>\n",
       "      <td>28.0</td>\n",
       "      <td>1</td>\n",
       "      <td>0</td>\n",
       "      <td>24.0000</td>\n",
       "      <td>C</td>\n",
       "      <td>Second</td>\n",
       "      <td>woman</td>\n",
       "      <td>False</td>\n",
       "      <td>NaN</td>\n",
       "      <td>cherbourg</td>\n",
       "      <td>yes</td>\n",
       "      <td>False</td>\n",
       "    </tr>\n",
       "    <tr>\n",
       "      <th>888</th>\n",
       "      <td>0</td>\n",
       "      <td>3</td>\n",
       "      <td>FEMALE</td>\n",
       "      <td>UNKNOWN</td>\n",
       "      <td>1</td>\n",
       "      <td>2</td>\n",
       "      <td>23.4500</td>\n",
       "      <td>S</td>\n",
       "      <td>Third</td>\n",
       "      <td>woman</td>\n",
       "      <td>False</td>\n",
       "      <td>NaN</td>\n",
       "      <td>southampton</td>\n",
       "      <td>no</td>\n",
       "      <td>False</td>\n",
       "    </tr>\n",
       "  </tbody>\n",
       "</table>\n",
       "<p>209 rows × 15 columns</p>\n",
       "</div>"
      ],
      "text/plain": [
       "     survived  pclass     sex      age  sibsp  parch     fare embarked  \\\n",
       "0           0       3    MALE     22.0      1      0   7.2500        S   \n",
       "1           1       1  FEMALE     38.0      1      0  71.2833        C   \n",
       "3           1       1  FEMALE     35.0      1      0  53.1000        S   \n",
       "9           1       2  FEMALE     14.0      1      0  30.0708        C   \n",
       "10          1       3  FEMALE      4.0      1      1  16.7000        S   \n",
       "..        ...     ...     ...      ...    ...    ...      ...      ...   \n",
       "866         1       2  FEMALE     27.0      1      0  13.8583        C   \n",
       "869         1       3    MALE      4.0      1      1  11.1333        S   \n",
       "871         1       1  FEMALE     47.0      1      1  52.5542        S   \n",
       "874         1       2  FEMALE     28.0      1      0  24.0000        C   \n",
       "888         0       3  FEMALE  UNKNOWN      1      2  23.4500        S   \n",
       "\n",
       "      class    who  adult_male deck  embark_town alive  alone  \n",
       "0     Third    man        True  NaN  southampton    no  False  \n",
       "1     First  woman       False    C    cherbourg   yes  False  \n",
       "3     First  woman       False    C  southampton   yes  False  \n",
       "9    Second  child       False  NaN    cherbourg   yes  False  \n",
       "10    Third  child       False    G  southampton   yes  False  \n",
       "..      ...    ...         ...  ...          ...   ...    ...  \n",
       "866  Second  woman       False  NaN    cherbourg   yes  False  \n",
       "869   Third  child       False  NaN  southampton   yes  False  \n",
       "871   First  woman       False    D  southampton   yes  False  \n",
       "874  Second  woman       False  NaN    cherbourg   yes  False  \n",
       "888   Third  woman       False  NaN  southampton    no  False  \n",
       "\n",
       "[209 rows x 15 columns]"
      ]
     },
     "execution_count": 41,
     "metadata": {},
     "output_type": "execute_result"
    }
   ],
   "source": [
    "df[df.sibsp.astype(\"string\").str.contains(\"1\")]  # sbips sütununda 1 içerenleri filtreledik.\n",
    "\n",
    "# pd.Series.str.contains()  bunu docstringe bakmak için yazdım."
   ]
  },
  {
   "cell_type": "code",
   "execution_count": 42,
   "id": "4d3d835b",
   "metadata": {},
   "outputs": [
    {
     "data": {
      "text/plain": [
       "0      [, ]\n",
       "1    [FE, ]\n",
       "2    [FE, ]\n",
       "3    [FE, ]\n",
       "4      [, ]\n",
       "Name: sex, dtype: object"
      ]
     },
     "execution_count": 42,
     "metadata": {},
     "output_type": "execute_result"
    }
   ],
   "source": [
    "df.sex.str.split(\"MALE\").head()"
   ]
  },
  {
   "cell_type": "code",
   "execution_count": 43,
   "id": "6f844e5c",
   "metadata": {},
   "outputs": [
    {
     "data": {
      "text/plain": [
       "0      [M, ]\n",
       "1    [FEM, ]\n",
       "2    [FEM, ]\n",
       "3    [FEM, ]\n",
       "4      [M, ]\n",
       "Name: sex, dtype: object"
      ]
     },
     "execution_count": 43,
     "metadata": {},
     "output_type": "execute_result"
    }
   ],
   "source": [
    "df.sex.str.split(\"ALE\").head()"
   ]
  },
  {
   "cell_type": "code",
   "execution_count": 44,
   "id": "d0a4ec15",
   "metadata": {},
   "outputs": [
    {
     "data": {
      "text/plain": [
       "0        MA\n",
       "1      FEMA\n",
       "2      FEMA\n",
       "3      FEMA\n",
       "4        MA\n",
       "       ... \n",
       "886      MA\n",
       "887    FEMA\n",
       "888    FEMA\n",
       "889      MA\n",
       "890      MA\n",
       "Name: sex, Length: 891, dtype: object"
      ]
     },
     "execution_count": 44,
     "metadata": {},
     "output_type": "execute_result"
    }
   ],
   "source": [
    "df.sex.str.strip(\"LE\")  # belirtilen patterni stringlerden silmek için"
   ]
  },
  {
   "cell_type": "code",
   "execution_count": 45,
   "id": "d20a0f1d",
   "metadata": {},
   "outputs": [
    {
     "data": {
      "text/plain": [
       "0   -1.0\n",
       "1   -1.0\n",
       "Name: embark_town, dtype: float64"
      ]
     },
     "execution_count": 45,
     "metadata": {},
     "output_type": "execute_result"
    }
   ],
   "source": [
    "df.embark_town.str.find(\"Southampton\").head(2)  # belirtilen ifadenin ilk bulunduğu index değerini bulmak için"
   ]
  },
  {
   "cell_type": "code",
   "execution_count": 46,
   "id": "daac3c27",
   "metadata": {},
   "outputs": [
    {
     "data": {
      "text/plain": [
       "0    [southampton]\n",
       "1               []\n",
       "Name: embark_town, dtype: object"
      ]
     },
     "execution_count": 46,
     "metadata": {},
     "output_type": "execute_result"
    }
   ],
   "source": [
    "df.embark_town.str.findall(\"southampton\").head(2)  # belirtilen ifadeden df'te varsa tamamının listesini döndürür."
   ]
  },
  {
   "cell_type": "code",
   "execution_count": null,
   "id": "0e99f7e3",
   "metadata": {},
   "outputs": [],
   "source": []
  }
 ],
 "metadata": {
  "kernelspec": {
   "display_name": "Python 3 (ipykernel)",
   "language": "python",
   "name": "python3"
  },
  "language_info": {
   "codemirror_mode": {
    "name": "ipython",
    "version": 3
   },
   "file_extension": ".py",
   "mimetype": "text/x-python",
   "name": "python",
   "nbconvert_exporter": "python",
   "pygments_lexer": "ipython3",
   "version": "3.9.7"
  }
 },
 "nbformat": 4,
 "nbformat_minor": 5
}

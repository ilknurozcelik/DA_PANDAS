{
 "cells": [
  {
   "cell_type": "code",
   "execution_count": 1,
   "id": "83ca2211",
   "metadata": {},
   "outputs": [],
   "source": [
    "import numpy as np\n",
    "import pandas as pd"
   ]
  },
  {
   "cell_type": "code",
   "execution_count": 7,
   "id": "710166b4",
   "metadata": {},
   "outputs": [],
   "source": [
    "s = \"ali\\\\n\""
   ]
  },
  {
   "cell_type": "code",
   "execution_count": 8,
   "id": "6b5017bd",
   "metadata": {},
   "outputs": [
    {
     "data": {
      "text/plain": [
       "3"
      ]
     },
     "execution_count": 8,
     "metadata": {},
     "output_type": "execute_result"
    }
   ],
   "source": [
    "s.find(r\"\\n\")"
   ]
  },
  {
   "cell_type": "code",
   "execution_count": 9,
   "id": "8f0a4fbc",
   "metadata": {},
   "outputs": [
    {
     "data": {
      "text/plain": [
       "'ali'"
      ]
     },
     "execution_count": 9,
     "metadata": {},
     "output_type": "execute_result"
    }
   ],
   "source": [
    "s.replace(r\"\\n\", \"\")"
   ]
  },
  {
   "cell_type": "code",
   "execution_count": null,
   "id": "79336c73",
   "metadata": {},
   "outputs": [],
   "source": [
    "\\d : digit veya [0-9]+\n",
    "\\D : nondiigt"
   ]
  },
  {
   "cell_type": "code",
   "execution_count": null,
   "id": "2c615854",
   "metadata": {},
   "outputs": [],
   "source": [
    "\\w :letter ve underscore"
   ]
  },
  {
   "cell_type": "code",
   "execution_count": 10,
   "id": "06137c96",
   "metadata": {},
   "outputs": [
    {
     "ename": "SyntaxError",
     "evalue": "invalid syntax (Temp/ipykernel_21488/3340195278.py, line 1)",
     "output_type": "error",
     "traceback": [
      "\u001b[1;36m  File \u001b[1;32m\"C:\\Users\\user\\AppData\\Local\\Temp/ipykernel_21488/3340195278.py\"\u001b[1;36m, line \u001b[1;32m1\u001b[0m\n\u001b[1;33m    [a-z]+\u001b[0m\n\u001b[1;37m          ^\u001b[0m\n\u001b[1;31mSyntaxError\u001b[0m\u001b[1;31m:\u001b[0m invalid syntax\n"
     ]
    }
   ],
   "source": [
    "[a-z]+"
   ]
  },
  {
   "cell_type": "code",
   "execution_count": null,
   "id": "5f9e3afd",
   "metadata": {},
   "outputs": [],
   "source": [
    "[A-Za-z0-9_]+  \\w"
   ]
  },
  {
   "cell_type": "code",
   "execution_count": null,
   "id": "37e0f017",
   "metadata": {},
   "outputs": [],
   "source": [
    "[a-z]*"
   ]
  },
  {
   "cell_type": "code",
   "execution_count": 51,
   "id": "2ad94b43",
   "metadata": {},
   "outputs": [],
   "source": [
    "s1 = [\"ali\", \"234\", \"veli\", \"var123\", \"artı\\\\\"]"
   ]
  },
  {
   "cell_type": "code",
   "execution_count": 154,
   "id": "f2848143",
   "metadata": {},
   "outputs": [
    {
     "data": {
      "text/plain": [
       "0       ali\n",
       "1       234\n",
       "2      veli\n",
       "3    var123\n",
       "4     artı\\\n",
       "dtype: object"
      ]
     },
     "execution_count": 154,
     "metadata": {},
     "output_type": "execute_result"
    }
   ],
   "source": [
    "s1= pd.Series(s1)\n",
    "s1"
   ]
  },
  {
   "cell_type": "code",
   "execution_count": 156,
   "id": "b744e487",
   "metadata": {},
   "outputs": [
    {
     "data": {
      "text/plain": [
       "0          **\n",
       "1     *2*3*4*\n",
       "2          **\n",
       "3    **1*2*3*\n",
       "4      **ı*\\*\n",
       "dtype: object"
      ]
     },
     "execution_count": 156,
     "metadata": {},
     "output_type": "execute_result"
    }
   ],
   "source": [
    "s1.str.replace(r\"([a-z]*)\", \"*\", regex=True)"
   ]
  },
  {
   "cell_type": "code",
   "execution_count": 29,
   "id": "2ca61256",
   "metadata": {},
   "outputs": [
    {
     "name": "stderr",
     "output_type": "stream",
     "text": [
      "C:\\Users\\user\\AppData\\Local\\Temp/ipykernel_21488/1062221138.py:1: FutureWarning: The default value of regex will change from True to False in a future version.\n",
      "  s1.str.replace(r\"([a-z]+)\", \"2\")\n"
     ]
    },
    {
     "data": {
      "text/plain": [
       "0      2\n",
       "1    234\n",
       "2      2\n",
       "dtype: object"
      ]
     },
     "execution_count": 29,
     "metadata": {},
     "output_type": "execute_result"
    }
   ],
   "source": [
    "s1.str.replace(r\"([a-z]+)\", \"2\")"
   ]
  },
  {
   "cell_type": "code",
   "execution_count": 153,
   "id": "4525b908",
   "metadata": {},
   "outputs": [
    {
     "data": {
      "text/plain": [
       "0       222\n",
       "1       234\n",
       "2      2222\n",
       "3    222123\n",
       "4     222ı\\\n",
       "dtype: object"
      ]
     },
     "execution_count": 153,
     "metadata": {},
     "output_type": "execute_result"
    }
   ],
   "source": [
    "s1.str.replace(r\"([a-z])\", \"2\", regex=True)"
   ]
  },
  {
   "cell_type": "code",
   "execution_count": 32,
   "id": "d338f5ee",
   "metadata": {},
   "outputs": [
    {
     "name": "stderr",
     "output_type": "stream",
     "text": [
      "C:\\Users\\user\\AppData\\Local\\Temp/ipykernel_21488/377839494.py:1: FutureWarning: The default value of regex will change from True to False in a future version.\n",
      "  s1.str.replace(r\"([a-z]{2})\", \"2\")\n"
     ]
    },
    {
     "data": {
      "text/plain": [
       "0     2i\n",
       "1    234\n",
       "2     22\n",
       "dtype: object"
      ]
     },
     "execution_count": 32,
     "metadata": {},
     "output_type": "execute_result"
    }
   ],
   "source": [
    "s1.str.replace(r\"([a-z]{2})\", \"2\")"
   ]
  },
  {
   "cell_type": "code",
   "execution_count": 33,
   "id": "f7c235a6",
   "metadata": {},
   "outputs": [
    {
     "name": "stderr",
     "output_type": "stream",
     "text": [
      "C:\\Users\\user\\AppData\\Local\\Temp/ipykernel_21488/3654730357.py:1: FutureWarning: The default value of regex will change from True to False in a future version.\n",
      "  s1.str.replace(r\"([a-z0-9]{2})\", \"2\")\n"
     ]
    },
    {
     "data": {
      "text/plain": [
       "0    2i\n",
       "1    24\n",
       "2    22\n",
       "dtype: object"
      ]
     },
     "execution_count": 33,
     "metadata": {},
     "output_type": "execute_result"
    }
   ],
   "source": [
    "s1.str.replace(r\"([a-z0-9]{2})\", \"2\")"
   ]
  },
  {
   "cell_type": "code",
   "execution_count": 38,
   "id": "2bd6695a",
   "metadata": {},
   "outputs": [
    {
     "data": {
      "text/plain": [
       "0    [a]\n",
       "1     []\n",
       "2     []\n",
       "dtype: object"
      ]
     },
     "execution_count": 38,
     "metadata": {},
     "output_type": "execute_result"
    }
   ],
   "source": [
    "s1.str.findall(\"z|a\")"
   ]
  },
  {
   "cell_type": "code",
   "execution_count": 39,
   "id": "a7db716c",
   "metadata": {},
   "outputs": [
    {
     "data": {
      "text/plain": [
       "0    [a]\n",
       "1     []\n",
       "2    [v]\n",
       "dtype: object"
      ]
     },
     "execution_count": 39,
     "metadata": {},
     "output_type": "execute_result"
    }
   ],
   "source": [
    "s1.str.findall(\"v|a\")"
   ]
  },
  {
   "cell_type": "code",
   "execution_count": 48,
   "id": "249e1ff9",
   "metadata": {},
   "outputs": [
    {
     "data": {
      "text/plain": [
       "0                    [(a, )]\n",
       "1                  [(, 234)]\n",
       "2                    [(v, )]\n",
       "3    [(v, ), (a, ), (, 123)]\n",
       "dtype: object"
      ]
     },
     "execution_count": 48,
     "metadata": {},
     "output_type": "execute_result"
    }
   ],
   "source": [
    "s1.str.findall(\"(v|a)|([0-9]+)\")"
   ]
  },
  {
   "cell_type": "code",
   "execution_count": 50,
   "id": "4a52d6bf",
   "metadata": {},
   "outputs": [
    {
     "data": {
      "text/plain": [
       "0    []\n",
       "1    []\n",
       "2    []\n",
       "3    []\n",
       "dtype: object"
      ]
     },
     "execution_count": 50,
     "metadata": {},
     "output_type": "execute_result"
    }
   ],
   "source": [
    "s1.str.findall(\"(v|a)([0-9]+)\")"
   ]
  },
  {
   "cell_type": "code",
   "execution_count": 66,
   "id": "f6539587",
   "metadata": {},
   "outputs": [
    {
     "data": {
      "text/plain": [
       "0    []\n",
       "1    []\n",
       "2    []\n",
       "3    []\n",
       "4    []\n",
       "dtype: object"
      ]
     },
     "execution_count": 66,
     "metadata": {},
     "output_type": "execute_result"
    }
   ],
   "source": [
    "s1.str.findall(r\"(\\\\)\")"
   ]
  },
  {
   "cell_type": "code",
   "execution_count": 61,
   "id": "c3217991",
   "metadata": {},
   "outputs": [
    {
     "name": "stdout",
     "output_type": "stream",
     "text": [
      "Backslash: \\\n"
     ]
    }
   ],
   "source": [
    "print(\"Backslash: \\\\\")"
   ]
  },
  {
   "cell_type": "code",
   "execution_count": 62,
   "id": "31300b53",
   "metadata": {},
   "outputs": [
    {
     "name": "stdout",
     "output_type": "stream",
     "text": [
      "Backslash: \\\\\n"
     ]
    }
   ],
   "source": [
    "print(r\"Backslash: \\\\\")"
   ]
  },
  {
   "cell_type": "code",
   "execution_count": 74,
   "id": "03d6234c",
   "metadata": {},
   "outputs": [],
   "source": [
    "import re"
   ]
  },
  {
   "cell_type": "code",
   "execution_count": 75,
   "id": "6fd56140",
   "metadata": {},
   "outputs": [],
   "source": [
    "text = \"A78L41K\""
   ]
  },
  {
   "cell_type": "code",
   "execution_count": 76,
   "id": "b7b39d10",
   "metadata": {},
   "outputs": [],
   "source": [
    "num = re.search(\"78\", text)"
   ]
  },
  {
   "cell_type": "code",
   "execution_count": 77,
   "id": "19735c40",
   "metadata": {},
   "outputs": [
    {
     "data": {
      "text/plain": [
       "'78'"
      ]
     },
     "execution_count": 77,
     "metadata": {},
     "output_type": "execute_result"
    }
   ],
   "source": [
    "num.group()"
   ]
  },
  {
   "cell_type": "code",
   "execution_count": 78,
   "id": "a9a46bd1",
   "metadata": {},
   "outputs": [
    {
     "name": "stdout",
     "output_type": "stream",
     "text": [
      "<re.Match object; span=(1, 3), match='78'>\n"
     ]
    }
   ],
   "source": [
    "print(num)"
   ]
  },
  {
   "cell_type": "code",
   "execution_count": 79,
   "id": "c504d741",
   "metadata": {},
   "outputs": [],
   "source": [
    "text = \"A78L41K\""
   ]
  },
  {
   "cell_type": "code",
   "execution_count": 87,
   "id": "27ee7019",
   "metadata": {},
   "outputs": [
    {
     "data": {
      "text/plain": [
       "'A78'"
      ]
     },
     "execution_count": 87,
     "metadata": {},
     "output_type": "execute_result"
    }
   ],
   "source": [
    "alpha = re.match(\"\\D\\d\\d\", text)\n",
    "alpha.group(0)"
   ]
  },
  {
   "cell_type": "code",
   "execution_count": 88,
   "id": "63f9e50a",
   "metadata": {},
   "outputs": [
    {
     "data": {
      "text/plain": [
       "'A78'"
      ]
     },
     "execution_count": 88,
     "metadata": {},
     "output_type": "execute_result"
    }
   ],
   "source": [
    "alpha.group()"
   ]
  },
  {
   "cell_type": "code",
   "execution_count": 81,
   "id": "8135855c",
   "metadata": {},
   "outputs": [
    {
     "data": {
      "text/plain": [
       "<re.Match object; span=(0, 3), match='A78'>"
      ]
     },
     "execution_count": 81,
     "metadata": {},
     "output_type": "execute_result"
    }
   ],
   "source": [
    "alpha"
   ]
  },
  {
   "cell_type": "code",
   "execution_count": 82,
   "id": "c0f97974",
   "metadata": {},
   "outputs": [
    {
     "data": {
      "text/plain": [
       "str"
      ]
     },
     "execution_count": 82,
     "metadata": {},
     "output_type": "execute_result"
    }
   ],
   "source": [
    "type(alpha.group())"
   ]
  },
  {
   "cell_type": "code",
   "execution_count": 89,
   "id": "86ff93ca",
   "metadata": {},
   "outputs": [],
   "source": [
    "alpa2= re.search(\"\\D\\d\\d\", text)"
   ]
  },
  {
   "cell_type": "code",
   "execution_count": 93,
   "id": "f877d45d",
   "metadata": {},
   "outputs": [
    {
     "data": {
      "text/plain": [
       "'A78'"
      ]
     },
     "execution_count": 93,
     "metadata": {},
     "output_type": "execute_result"
    }
   ],
   "source": [
    "alpa2.group()"
   ]
  },
  {
   "cell_type": "code",
   "execution_count": 114,
   "id": "45a7f7cd",
   "metadata": {},
   "outputs": [],
   "source": [
    "text = \"5278L41K\""
   ]
  },
  {
   "cell_type": "code",
   "execution_count": 115,
   "id": "092881ff",
   "metadata": {},
   "outputs": [],
   "source": [
    "alpa2= re.search(\"\\D\\d\\d\", text)"
   ]
  },
  {
   "cell_type": "code",
   "execution_count": 116,
   "id": "b2dcb02a",
   "metadata": {},
   "outputs": [
    {
     "data": {
      "text/plain": [
       "'L41'"
      ]
     },
     "execution_count": 116,
     "metadata": {},
     "output_type": "execute_result"
    }
   ],
   "source": [
    "alpa2.group()"
   ]
  },
  {
   "cell_type": "code",
   "execution_count": 98,
   "id": "c1eed1d0",
   "metadata": {},
   "outputs": [],
   "source": [
    "alpa2= re.match(\"\\D\\d\\d\", text)"
   ]
  },
  {
   "cell_type": "code",
   "execution_count": 99,
   "id": "fed0bad1",
   "metadata": {},
   "outputs": [
    {
     "ename": "AttributeError",
     "evalue": "'NoneType' object has no attribute 'group'",
     "output_type": "error",
     "traceback": [
      "\u001b[1;31m---------------------------------------------------------------------------\u001b[0m",
      "\u001b[1;31mAttributeError\u001b[0m                            Traceback (most recent call last)",
      "\u001b[1;32m~\\AppData\\Local\\Temp/ipykernel_21488/2909196139.py\u001b[0m in \u001b[0;36m<module>\u001b[1;34m\u001b[0m\n\u001b[1;32m----> 1\u001b[1;33m \u001b[0malpa2\u001b[0m\u001b[1;33m.\u001b[0m\u001b[0mgroup\u001b[0m\u001b[1;33m(\u001b[0m\u001b[1;33m)\u001b[0m\u001b[1;33m\u001b[0m\u001b[1;33m\u001b[0m\u001b[0m\n\u001b[0m",
      "\u001b[1;31mAttributeError\u001b[0m: 'NoneType' object has no attribute 'group'"
     ]
    }
   ],
   "source": [
    "alpa2.group()"
   ]
  },
  {
   "cell_type": "code",
   "execution_count": 101,
   "id": "bac9490e",
   "metadata": {},
   "outputs": [
    {
     "ename": "AttributeError",
     "evalue": "'NoneType' object has no attribute 'group'",
     "output_type": "error",
     "traceback": [
      "\u001b[1;31m---------------------------------------------------------------------------\u001b[0m",
      "\u001b[1;31mAttributeError\u001b[0m                            Traceback (most recent call last)",
      "\u001b[1;32m~\\AppData\\Local\\Temp/ipykernel_21488/218195639.py\u001b[0m in \u001b[0;36m<module>\u001b[1;34m\u001b[0m\n\u001b[0;32m      1\u001b[0m \u001b[0mtext\u001b[0m \u001b[1;33m=\u001b[0m \u001b[1;34m\"A78L41K5\"\u001b[0m\u001b[1;33m\u001b[0m\u001b[1;33m\u001b[0m\u001b[0m\n\u001b[0;32m      2\u001b[0m \u001b[0malpnum\u001b[0m \u001b[1;33m=\u001b[0m \u001b[0mre\u001b[0m\u001b[1;33m.\u001b[0m\u001b[0mfullmatch\u001b[0m\u001b[1;33m(\u001b[0m\u001b[1;34m\"\\D\\d+\\D\\d+\\D\"\u001b[0m\u001b[1;33m,\u001b[0m \u001b[0mtext\u001b[0m\u001b[1;33m)\u001b[0m\u001b[1;33m\u001b[0m\u001b[1;33m\u001b[0m\u001b[0m\n\u001b[1;32m----> 3\u001b[1;33m \u001b[0malpnum\u001b[0m\u001b[1;33m.\u001b[0m\u001b[0mgroup\u001b[0m\u001b[1;33m(\u001b[0m\u001b[1;33m)\u001b[0m\u001b[1;33m\u001b[0m\u001b[1;33m\u001b[0m\u001b[0m\n\u001b[0m",
      "\u001b[1;31mAttributeError\u001b[0m: 'NoneType' object has no attribute 'group'"
     ]
    }
   ],
   "source": [
    "text = \"A78L41K5\"\n",
    "alpnum = re.fullmatch(\"\\D\\d+\\D\\d+\\D\", text)\n",
    "alpnum.group()"
   ]
  },
  {
   "cell_type": "code",
   "execution_count": 102,
   "id": "7fe78d7b",
   "metadata": {},
   "outputs": [],
   "source": [
    "text = \"O 1, t 10, o 100. 100000\""
   ]
  },
  {
   "cell_type": "code",
   "execution_count": 105,
   "id": "a5145072",
   "metadata": {},
   "outputs": [
    {
     "data": {
      "text/plain": [
       "['1', '1', '0', '1', '0', '0', '1', '0', '0', '0', '0', '0']"
      ]
     },
     "execution_count": 105,
     "metadata": {},
     "output_type": "execute_result"
    }
   ],
   "source": [
    "re.findall(\"\\d{1}\", text)"
   ]
  },
  {
   "cell_type": "code",
   "execution_count": 107,
   "id": "a84bf807",
   "metadata": {},
   "outputs": [
    {
     "data": {
      "text/plain": [
       "['100', '100', '000']"
      ]
     },
     "execution_count": 107,
     "metadata": {},
     "output_type": "execute_result"
    }
   ],
   "source": [
    "re.findall(\"\\d{3}\", text)"
   ]
  },
  {
   "cell_type": "code",
   "execution_count": 118,
   "id": "73249283",
   "metadata": {},
   "outputs": [],
   "source": [
    "text = \"2004-959-559\""
   ]
  },
  {
   "cell_type": "code",
   "execution_count": 119,
   "id": "01c1e453",
   "metadata": {},
   "outputs": [
    {
     "data": {
      "text/plain": [
       "'2004959559'"
      ]
     },
     "execution_count": 119,
     "metadata": {},
     "output_type": "execute_result"
    }
   ],
   "source": [
    "re.sub(\"\\D\", \"\", text) "
   ]
  },
  {
   "cell_type": "code",
   "execution_count": 120,
   "id": "fd641bad",
   "metadata": {},
   "outputs": [],
   "source": [
    "text = \"ab56cd78_de fg3hıi49\""
   ]
  },
  {
   "cell_type": "code",
   "execution_count": 121,
   "id": "714b32f4",
   "metadata": {},
   "outputs": [
    {
     "data": {
      "text/plain": [
       "['', '56', '78', '3', '49']"
      ]
     },
     "execution_count": 121,
     "metadata": {},
     "output_type": "execute_result"
    }
   ],
   "source": [
    "re.split(\"\\D+\", text)"
   ]
  },
  {
   "cell_type": "code",
   "execution_count": 123,
   "id": "3f9ee54c",
   "metadata": {},
   "outputs": [
    {
     "data": {
      "text/plain": [
       "['ab56cd78_de fg3hıi49']"
      ]
     },
     "execution_count": 123,
     "metadata": {},
     "output_type": "execute_result"
    }
   ],
   "source": [
    "text.split(\"\\D+\")"
   ]
  },
  {
   "cell_type": "code",
   "execution_count": 124,
   "id": "80b062ba",
   "metadata": {},
   "outputs": [],
   "source": [
    "s = pd.Series(['a3aa', 'b4aa', 'c5aa'])"
   ]
  },
  {
   "cell_type": "code",
   "execution_count": 125,
   "id": "c132f019",
   "metadata": {},
   "outputs": [
    {
     "data": {
      "text/plain": [
       "0    a3aa\n",
       "1    b4aa\n",
       "2    c5aa\n",
       "dtype: object"
      ]
     },
     "execution_count": 125,
     "metadata": {},
     "output_type": "execute_result"
    }
   ],
   "source": [
    "s"
   ]
  },
  {
   "cell_type": "code",
   "execution_count": 126,
   "id": "869f42de",
   "metadata": {},
   "outputs": [
    {
     "data": {
      "text/plain": [
       "0    3\n",
       "1    2\n",
       "2    2\n",
       "dtype: int64"
      ]
     },
     "execution_count": 126,
     "metadata": {},
     "output_type": "execute_result"
    }
   ],
   "source": [
    "s.str.count(\"a\")"
   ]
  },
  {
   "cell_type": "code",
   "execution_count": 128,
   "id": "95a2d9c0",
   "metadata": {},
   "outputs": [
    {
     "data": {
      "text/plain": [
       "0    aaa\n",
       "1    baa\n",
       "2    caa\n",
       "dtype: object"
      ]
     },
     "execution_count": 128,
     "metadata": {},
     "output_type": "execute_result"
    }
   ],
   "source": [
    "s.str.replace(\"\\d\",\"\", regex=True)"
   ]
  },
  {
   "cell_type": "code",
   "execution_count": 133,
   "id": "0b80a7ae",
   "metadata": {},
   "outputs": [
    {
     "data": {
      "text/plain": [
       "0    False\n",
       "1    False\n",
       "2     True\n",
       "dtype: bool"
      ]
     },
     "execution_count": 133,
     "metadata": {},
     "output_type": "execute_result"
    }
   ],
   "source": [
    "s.str.contains(\"[clt]\")"
   ]
  },
  {
   "cell_type": "code",
   "execution_count": 134,
   "id": "ef552f09",
   "metadata": {},
   "outputs": [
    {
     "data": {
      "text/plain": [
       "0    [a3]\n",
       "1    [b4]\n",
       "2    [c5]\n",
       "dtype: object"
      ]
     },
     "execution_count": 134,
     "metadata": {},
     "output_type": "execute_result"
    }
   ],
   "source": [
    "s.str.findall(\"\\D\\d\")"
   ]
  },
  {
   "cell_type": "code",
   "execution_count": 136,
   "id": "96c10cb3",
   "metadata": {},
   "outputs": [
    {
     "data": {
      "text/plain": [
       "0    [a, a, a]\n",
       "1    [b, a, a]\n",
       "2    [c, a, a]\n",
       "dtype: object"
      ]
     },
     "execution_count": 136,
     "metadata": {},
     "output_type": "execute_result"
    }
   ],
   "source": [
    "s.str.findall(\"\\D\")"
   ]
  },
  {
   "cell_type": "code",
   "execution_count": 137,
   "id": "44792d0a",
   "metadata": {},
   "outputs": [],
   "source": [
    "s = pd.Series(['&a3aa', 'b4&aa', 'c5aa&'])"
   ]
  },
  {
   "cell_type": "code",
   "execution_count": 138,
   "id": "0778422a",
   "metadata": {},
   "outputs": [
    {
     "data": {
      "text/plain": [
       "0     True\n",
       "1    False\n",
       "2    False\n",
       "dtype: bool"
      ]
     },
     "execution_count": 138,
     "metadata": {},
     "output_type": "execute_result"
    }
   ],
   "source": [
    "s.str.match(\"&\")"
   ]
  },
  {
   "cell_type": "code",
   "execution_count": 139,
   "id": "df14ba53",
   "metadata": {},
   "outputs": [
    {
     "data": {
      "text/plain": [
       "0    [, a3aa]\n",
       "1    [b4, aa]\n",
       "2    [c5aa, ]\n",
       "dtype: object"
      ]
     },
     "execution_count": 139,
     "metadata": {},
     "output_type": "execute_result"
    }
   ],
   "source": [
    "s.str.split(\"&\")"
   ]
  },
  {
   "cell_type": "code",
   "execution_count": 141,
   "id": "0c6f50eb",
   "metadata": {},
   "outputs": [
    {
     "data": {
      "text/html": [
       "<div>\n",
       "<style scoped>\n",
       "    .dataframe tbody tr th:only-of-type {\n",
       "        vertical-align: middle;\n",
       "    }\n",
       "\n",
       "    .dataframe tbody tr th {\n",
       "        vertical-align: top;\n",
       "    }\n",
       "\n",
       "    .dataframe thead th {\n",
       "        text-align: right;\n",
       "    }\n",
       "</style>\n",
       "<table border=\"1\" class=\"dataframe\">\n",
       "  <thead>\n",
       "    <tr style=\"text-align: right;\">\n",
       "      <th></th>\n",
       "      <th>0</th>\n",
       "      <th>1</th>\n",
       "    </tr>\n",
       "  </thead>\n",
       "  <tbody>\n",
       "    <tr>\n",
       "      <th>0</th>\n",
       "      <td>&amp;a</td>\n",
       "      <td>aa</td>\n",
       "    </tr>\n",
       "    <tr>\n",
       "      <th>1</th>\n",
       "      <td>b</td>\n",
       "      <td>&amp;aa</td>\n",
       "    </tr>\n",
       "    <tr>\n",
       "      <th>2</th>\n",
       "      <td>c</td>\n",
       "      <td>aa&amp;</td>\n",
       "    </tr>\n",
       "  </tbody>\n",
       "</table>\n",
       "</div>"
      ],
      "text/plain": [
       "    0    1\n",
       "0  &a   aa\n",
       "1   b  &aa\n",
       "2   c  aa&"
      ]
     },
     "execution_count": 141,
     "metadata": {},
     "output_type": "execute_result"
    }
   ],
   "source": [
    "s.str.split(\"\\d\", expand=True)"
   ]
  },
  {
   "cell_type": "code",
   "execution_count": 142,
   "id": "2cc161a7",
   "metadata": {},
   "outputs": [
    {
     "data": {
      "text/plain": [
       "0    &a3aa\n",
       "1    b4&aa\n",
       "2    c5aa&\n",
       "dtype: object"
      ]
     },
     "execution_count": 142,
     "metadata": {},
     "output_type": "execute_result"
    }
   ],
   "source": [
    "s"
   ]
  },
  {
   "cell_type": "code",
   "execution_count": 145,
   "id": "1be466f4",
   "metadata": {},
   "outputs": [
    {
     "data": {
      "text/html": [
       "<div>\n",
       "<style scoped>\n",
       "    .dataframe tbody tr th:only-of-type {\n",
       "        vertical-align: middle;\n",
       "    }\n",
       "\n",
       "    .dataframe tbody tr th {\n",
       "        vertical-align: top;\n",
       "    }\n",
       "\n",
       "    .dataframe thead th {\n",
       "        text-align: right;\n",
       "    }\n",
       "</style>\n",
       "<table border=\"1\" class=\"dataframe\">\n",
       "  <thead>\n",
       "    <tr style=\"text-align: right;\">\n",
       "      <th></th>\n",
       "      <th>0</th>\n",
       "    </tr>\n",
       "  </thead>\n",
       "  <tbody>\n",
       "    <tr>\n",
       "      <th>0</th>\n",
       "      <td>a3aa</td>\n",
       "    </tr>\n",
       "    <tr>\n",
       "      <th>1</th>\n",
       "      <td>b4</td>\n",
       "    </tr>\n",
       "    <tr>\n",
       "      <th>2</th>\n",
       "      <td>c5aa</td>\n",
       "    </tr>\n",
       "  </tbody>\n",
       "</table>\n",
       "</div>"
      ],
      "text/plain": [
       "      0\n",
       "0  a3aa\n",
       "1    b4\n",
       "2  c5aa"
      ]
     },
     "execution_count": 145,
     "metadata": {},
     "output_type": "execute_result"
    }
   ],
   "source": [
    "s.str.extract(\"(\\w+)\")"
   ]
  },
  {
   "cell_type": "code",
   "execution_count": 146,
   "id": "65abfb5f",
   "metadata": {},
   "outputs": [
    {
     "data": {
      "text/html": [
       "<div>\n",
       "<style scoped>\n",
       "    .dataframe tbody tr th:only-of-type {\n",
       "        vertical-align: middle;\n",
       "    }\n",
       "\n",
       "    .dataframe tbody tr th {\n",
       "        vertical-align: top;\n",
       "    }\n",
       "\n",
       "    .dataframe thead th {\n",
       "        text-align: right;\n",
       "    }\n",
       "</style>\n",
       "<table border=\"1\" class=\"dataframe\">\n",
       "  <thead>\n",
       "    <tr style=\"text-align: right;\">\n",
       "      <th></th>\n",
       "      <th>0</th>\n",
       "    </tr>\n",
       "  </thead>\n",
       "  <tbody>\n",
       "    <tr>\n",
       "      <th>0</th>\n",
       "      <td>&amp;</td>\n",
       "    </tr>\n",
       "    <tr>\n",
       "      <th>1</th>\n",
       "      <td>&amp;</td>\n",
       "    </tr>\n",
       "    <tr>\n",
       "      <th>2</th>\n",
       "      <td>&amp;</td>\n",
       "    </tr>\n",
       "  </tbody>\n",
       "</table>\n",
       "</div>"
      ],
      "text/plain": [
       "   0\n",
       "0  &\n",
       "1  &\n",
       "2  &"
      ]
     },
     "execution_count": 146,
     "metadata": {},
     "output_type": "execute_result"
    }
   ],
   "source": [
    "s.str.extract(\"(&)\")"
   ]
  },
  {
   "cell_type": "code",
   "execution_count": 148,
   "id": "7a2f8d7d",
   "metadata": {},
   "outputs": [
    {
     "data": {
      "text/html": [
       "<div>\n",
       "<style scoped>\n",
       "    .dataframe tbody tr th:only-of-type {\n",
       "        vertical-align: middle;\n",
       "    }\n",
       "\n",
       "    .dataframe tbody tr th {\n",
       "        vertical-align: top;\n",
       "    }\n",
       "\n",
       "    .dataframe thead th {\n",
       "        text-align: right;\n",
       "    }\n",
       "</style>\n",
       "<table border=\"1\" class=\"dataframe\">\n",
       "  <thead>\n",
       "    <tr style=\"text-align: right;\">\n",
       "      <th></th>\n",
       "      <th>0</th>\n",
       "    </tr>\n",
       "  </thead>\n",
       "  <tbody>\n",
       "    <tr>\n",
       "      <th>0</th>\n",
       "      <td>3</td>\n",
       "    </tr>\n",
       "    <tr>\n",
       "      <th>1</th>\n",
       "      <td>4</td>\n",
       "    </tr>\n",
       "    <tr>\n",
       "      <th>2</th>\n",
       "      <td>5</td>\n",
       "    </tr>\n",
       "  </tbody>\n",
       "</table>\n",
       "</div>"
      ],
      "text/plain": [
       "   0\n",
       "0  3\n",
       "1  4\n",
       "2  5"
      ]
     },
     "execution_count": 148,
     "metadata": {},
     "output_type": "execute_result"
    }
   ],
   "source": [
    "s.str.extract(r\"(\\d)\")"
   ]
  },
  {
   "cell_type": "code",
   "execution_count": 150,
   "id": "2de30161",
   "metadata": {},
   "outputs": [
    {
     "data": {
      "text/plain": [
       "0    &a3aa\n",
       "1    b4&aa\n",
       "2    c5aa&\n",
       "dtype: object"
      ]
     },
     "execution_count": 150,
     "metadata": {},
     "output_type": "execute_result"
    }
   ],
   "source": [
    "s"
   ]
  },
  {
   "cell_type": "code",
   "execution_count": 149,
   "id": "1c207b0e",
   "metadata": {},
   "outputs": [
    {
     "data": {
      "text/html": [
       "<div>\n",
       "<style scoped>\n",
       "    .dataframe tbody tr th:only-of-type {\n",
       "        vertical-align: middle;\n",
       "    }\n",
       "\n",
       "    .dataframe tbody tr th {\n",
       "        vertical-align: top;\n",
       "    }\n",
       "\n",
       "    .dataframe thead th {\n",
       "        text-align: right;\n",
       "    }\n",
       "</style>\n",
       "<table border=\"1\" class=\"dataframe\">\n",
       "  <thead>\n",
       "    <tr style=\"text-align: right;\">\n",
       "      <th></th>\n",
       "      <th>0</th>\n",
       "    </tr>\n",
       "  </thead>\n",
       "  <tbody>\n",
       "    <tr>\n",
       "      <th>0</th>\n",
       "      <td>a</td>\n",
       "    </tr>\n",
       "    <tr>\n",
       "      <th>1</th>\n",
       "      <td>b</td>\n",
       "    </tr>\n",
       "    <tr>\n",
       "      <th>2</th>\n",
       "      <td>c</td>\n",
       "    </tr>\n",
       "  </tbody>\n",
       "</table>\n",
       "</div>"
      ],
      "text/plain": [
       "   0\n",
       "0  a\n",
       "1  b\n",
       "2  c"
      ]
     },
     "execution_count": 149,
     "metadata": {},
     "output_type": "execute_result"
    }
   ],
   "source": [
    "s.str.extract(r\"([a-z]+)\")"
   ]
  },
  {
   "cell_type": "code",
   "execution_count": 151,
   "id": "3c909852",
   "metadata": {},
   "outputs": [
    {
     "data": {
      "text/plain": [
       "0    mhk&a3aa\n",
       "1    rtyb4&aa\n",
       "2    ffjc5aa&\n",
       "dtype: object"
      ]
     },
     "execution_count": 151,
     "metadata": {},
     "output_type": "execute_result"
    }
   ],
   "source": [
    "s = pd.Series(['mhk&a3aa', 'rtyb4&aa', 'ffjc5aa&'])\n",
    "s"
   ]
  },
  {
   "cell_type": "code",
   "execution_count": 152,
   "id": "c0446814",
   "metadata": {},
   "outputs": [
    {
     "data": {
      "text/html": [
       "<div>\n",
       "<style scoped>\n",
       "    .dataframe tbody tr th:only-of-type {\n",
       "        vertical-align: middle;\n",
       "    }\n",
       "\n",
       "    .dataframe tbody tr th {\n",
       "        vertical-align: top;\n",
       "    }\n",
       "\n",
       "    .dataframe thead th {\n",
       "        text-align: right;\n",
       "    }\n",
       "</style>\n",
       "<table border=\"1\" class=\"dataframe\">\n",
       "  <thead>\n",
       "    <tr style=\"text-align: right;\">\n",
       "      <th></th>\n",
       "      <th>0</th>\n",
       "    </tr>\n",
       "  </thead>\n",
       "  <tbody>\n",
       "    <tr>\n",
       "      <th>0</th>\n",
       "      <td>mhk</td>\n",
       "    </tr>\n",
       "    <tr>\n",
       "      <th>1</th>\n",
       "      <td>rtyb</td>\n",
       "    </tr>\n",
       "    <tr>\n",
       "      <th>2</th>\n",
       "      <td>ffjc</td>\n",
       "    </tr>\n",
       "  </tbody>\n",
       "</table>\n",
       "</div>"
      ],
      "text/plain": [
       "      0\n",
       "0   mhk\n",
       "1  rtyb\n",
       "2  ffjc"
      ]
     },
     "execution_count": 152,
     "metadata": {},
     "output_type": "execute_result"
    }
   ],
   "source": [
    "s.str.extract(r\"([a-z]+)\")"
   ]
  },
  {
   "cell_type": "code",
   "execution_count": null,
   "id": "f46da489",
   "metadata": {},
   "outputs": [],
   "source": []
  }
 ],
 "metadata": {
  "kernelspec": {
   "display_name": "Python 3 (ipykernel)",
   "language": "python",
   "name": "python3"
  },
  "language_info": {
   "codemirror_mode": {
    "name": "ipython",
    "version": 3
   },
   "file_extension": ".py",
   "mimetype": "text/x-python",
   "name": "python",
   "nbconvert_exporter": "python",
   "pygments_lexer": "ipython3",
   "version": "3.9.7"
  }
 },
 "nbformat": 4,
 "nbformat_minor": 5
}
